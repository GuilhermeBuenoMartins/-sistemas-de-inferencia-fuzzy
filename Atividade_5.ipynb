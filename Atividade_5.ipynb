{
  "nbformat": 4,
  "nbformat_minor": 0,
  "metadata": {
    "colab": {
      "name": "Atividade-5.ipynb",
      "provenance": [],
      "collapsed_sections": [],
      "include_colab_link": true
    },
    "kernelspec": {
      "name": "python3",
      "display_name": "Python 3"
    },
    "language_info": {
      "name": "python"
    }
  },
  "cells": [
    {
      "cell_type": "markdown",
      "metadata": {
        "id": "view-in-github",
        "colab_type": "text"
      },
      "source": [
        "<a href=\"https://colab.research.google.com/github/GuilhermeBuenoMartins/sistemas-de-inferencia-fuzzy/blob/develop/Atividade_5.ipynb\" target=\"_parent\"><img src=\"https://colab.research.google.com/assets/colab-badge.svg\" alt=\"Open In Colab\"/></a>"
      ]
    },
    {
      "cell_type": "code",
      "metadata": {
        "id": "Ihv-5kZ9toSR"
      },
      "source": [
        "import numpy as np\n",
        "\n",
        "def straight_equation(x , y):\n",
        "  theta1 = (y[1] - y[0]) / (x[1] - x[0])\n",
        "  theta0 = y[0] - theta1 * x[0]\n",
        "  return (theta0, theta1)\n",
        "\n",
        "def gauss_equation(x , y):\n",
        "  sigma = abs(x[1] - x[0])\n",
        "  mean = x[y.index(1)]\n",
        "  return (mean, sigma)\n",
        "\n",
        "def compare(point0, point1):\n",
        "  return point0[0] == point1[0] and point0[1] == point1[1]\n",
        "\n",
        "def fuzzify(funcs, points, params, x):\n",
        "  n = len(funcs)\n",
        "  mu_x = np.zeros((n, 1))\n",
        "  for i in range(n):\n",
        "    m = funcs[i]\n",
        "    point0 = points[i][0]\n",
        "    pointn = points[i][m-1]\n",
        "    for j in range(m):\n",
        "      if x <= point0[0]:\n",
        "        mu_x[i] = point0[1]\n",
        "      elif  x >= pointn[0]:\n",
        "        mu_x[i] = pointn[1]\n",
        "      elif x > point0[0] and x < pointn[0]:\n",
        "        point = points[i]\n",
        "        if x >= point[j-1][0] and x < point[j][0]:\n",
        "          theta0 = params[i][j-1][0]\n",
        "          theta1 = params[i][j-1][1]\n",
        "          mu_x[i] = theta0 + theta1 * x\n",
        "  return mu_x\n"
      ],
      "execution_count": 83,
      "outputs": []
    },
    {
      "cell_type": "code",
      "metadata": {
        "id": "wJ3NGZNKJWvW",
        "colab": {
          "base_uri": "https://localhost:8080/"
        },
        "outputId": "a90da0f5-7aa7-46f6-cf01-25e78e9725c7"
      },
      "source": [
        "funcs = np.array([2, 3, 3])\n",
        "points = np.array([[(24,1), (27,0), (0,0), (0,0)],\n",
        "                   [(24,0), (27,1), (30,0), (0,0)],\n",
        "                   [(27,0), (30,1), (33,0), (0,0)]])\n",
        "params = np.array([[(27/3, -1/3), (0,0), (0,0)],\n",
        "                   [(-24/3, 1/3), (30/3, -1/3), (0,0)],\n",
        "                   [(-27/3, 1/3), (33/3, -1/3), (0,0)]])\n",
        "x = 32\n",
        "fuzzify(funcs, points, params, x)"
      ],
      "execution_count": 85,
      "outputs": [
        {
          "output_type": "stream",
          "text": [
            "point= [33  0]\n"
          ],
          "name": "stdout"
        },
        {
          "output_type": "execute_result",
          "data": {
            "text/plain": [
              "array([[0.        ],\n",
              "       [0.        ],\n",
              "       [0.33333333]])"
            ]
          },
          "metadata": {
            "tags": []
          },
          "execution_count": 85
        }
      ]
    },
    {
      "cell_type": "code",
      "metadata": {
        "colab": {
          "base_uri": "https://localhost:8080/"
        },
        "id": "qd0UkxPaDR4X",
        "outputId": "3455da43-7fa2-47a5-8b5c-6d2476c5f21b"
      },
      "source": [
        "mu_x = np.zeros((4, 1))\n",
        "mu_x[3] = 3\n",
        "mu_x"
      ],
      "execution_count": 11,
      "outputs": [
        {
          "output_type": "execute_result",
          "data": {
            "text/plain": [
              "array([[0.],\n",
              "       [0.],\n",
              "       [0.],\n",
              "       [3.]])"
            ]
          },
          "metadata": {
            "tags": []
          },
          "execution_count": 11
        }
      ]
    },
    {
      "cell_type": "code",
      "metadata": {
        "colab": {
          "base_uri": "https://localhost:8080/"
        },
        "id": "ENreommsMaWz",
        "outputId": "f5f8225e-69ac-43a2-a5fe-a1f747467f7c"
      },
      "source": [
        "(27/3, -1/3)"
      ],
      "execution_count": 15,
      "outputs": [
        {
          "output_type": "execute_result",
          "data": {
            "text/plain": [
              "(9.0, -0.3333333333333333)"
            ]
          },
          "metadata": {
            "tags": []
          },
          "execution_count": 15
        }
      ]
    },
    {
      "cell_type": "code",
      "metadata": {
        "colab": {
          "base_uri": "https://localhost:8080/"
        },
        "id": "l5Cz0dLhW0qd",
        "outputId": "b38fb45b-6172-48e8-afd9-7c01d7e45f32"
      },
      "source": [
        "points[1][3] == (3, 4)"
      ],
      "execution_count": 20,
      "outputs": [
        {
          "output_type": "execute_result",
          "data": {
            "text/plain": [
              "array([False, False])"
            ]
          },
          "metadata": {
            "tags": []
          },
          "execution_count": 20
        }
      ]
    },
    {
      "cell_type": "code",
      "metadata": {
        "id": "Zm9n-7FOY4IM"
      },
      "source": [
        ""
      ],
      "execution_count": null,
      "outputs": []
    }
  ]
}