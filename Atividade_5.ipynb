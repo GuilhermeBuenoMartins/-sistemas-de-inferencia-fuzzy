{
  "nbformat": 4,
  "nbformat_minor": 0,
  "metadata": {
    "colab": {
      "name": "Atividade-5.ipynb",
      "provenance": [],
      "collapsed_sections": [],
      "include_colab_link": true
    },
    "kernelspec": {
      "name": "python3",
      "display_name": "Python 3"
    },
    "language_info": {
      "name": "python"
    }
  },
  "cells": [
    {
      "cell_type": "markdown",
      "metadata": {
        "id": "view-in-github",
        "colab_type": "text"
      },
      "source": [
        "<a href=\"https://colab.research.google.com/github/rcotrin/sistemas-de-inferencia-fuzzy/blob/develop/Atividade_5.ipynb\" target=\"_parent\"><img src=\"https://colab.research.google.com/assets/colab-badge.svg\" alt=\"Open In Colab\"/></a>"
      ]
    },
    {
      "cell_type": "code",
      "metadata": {
        "id": "Ihv-5kZ9toSR"
      },
      "source": [
        "import numpy as np\n",
        "\n",
        "def straight_equation(x , y):\n",
        "  theta_1 = (y[1] - y[0]) / (x[1] - x[0])\n",
        "  theta_0 = y[0] - theta_1 * x[0]\n",
        "  return (theta_0, theta_1)\n",
        "\n",
        "def gauss_equation(x , y):\n",
        "  sigma = abs(x[1] - x[0])\n",
        "  mean = x[y.index(1)]\n",
        "  return (mean, sigma)\n"
      ],
      "execution_count": null,
      "outputs": []
    },
    {
      "cell_type": "code",
      "metadata": {
        "id": "wJ3NGZNKJWvW",
        "outputId": "c8b0d9db-0c8f-4675-d3b9-ae66c0ac0d6d",
        "colab": {
          "base_uri": "https://localhost:8080/"
        }
      },
      "source": [
        "print(\"rafa legal\")"
      ],
      "execution_count": 1,
      "outputs": [
        {
          "output_type": "stream",
          "text": [
            "rafa legal\n"
          ],
          "name": "stdout"
        }
      ]
    }
  ]
}