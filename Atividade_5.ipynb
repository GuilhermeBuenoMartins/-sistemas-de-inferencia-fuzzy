{
  "nbformat": 4,
  "nbformat_minor": 0,
  "metadata": {
    "colab": {
      "name": "Atividade-5.ipynb",
      "provenance": [],
      "collapsed_sections": [],
      "include_colab_link": true
    },
    "kernelspec": {
      "name": "python3",
      "display_name": "Python 3"
    },
    "language_info": {
      "name": "python"
    }
  },
  "cells": [
    {
      "cell_type": "markdown",
      "metadata": {
        "id": "view-in-github",
        "colab_type": "text"
      },
      "source": [
        "<a href=\"https://colab.research.google.com/github/GuilhermeBuenoMartins/sistemas-de-inferencia-fuzzy/blob/develop/Atividade_5.ipynb\" target=\"_parent\"><img src=\"https://colab.research.google.com/assets/colab-badge.svg\" alt=\"Open In Colab\"/></a>"
      ]
    },
    {
      "cell_type": "code",
      "metadata": {
        "id": "Ihv-5kZ9toSR"
      },
      "source": [
        "import numpy as np\n",
        "\n",
        "def straight_equation(x , y):\n",
        "  theta1 = (y[1] - y[0]) / (x[1] - x[0])\n",
        "  theta0 = y[0] - theta1 * x[0]\n",
        "  return (theta0, theta1)\n",
        "\n",
        "def gauss_equation(x , y):\n",
        "  sigma = abs(x[1] - x[0])\n",
        "  mean = x[y.index(1)]\n",
        "  return (mean, sigma)\n",
        "\n",
        "def compare(point0, point1):\n",
        "  return point0[0] == point1[0] and point0[1] == point1[1]\n",
        "\n",
        "def fuzzify(funcs, points, params, x):\n",
        "  n = len(funcs)\n",
        "  mu_x = np.zeros((n, 1))\n",
        "  for i in range(n):\n",
        "    m = funcs[i]\n",
        "    point0 = points[i][0]\n",
        "    pointn = points[i][m-1]\n",
        "    for j in range(m):\n",
        "      if x <= point0[0]:\n",
        "        mu_x[i] = point0[1]\n",
        "      elif  x >= pointn[0]:\n",
        "        mu_x[i] = pointn[1]\n",
        "      elif x > point0[0] and x < pointn[0]:\n",
        "        point = points[i]\n",
        "        if x >= point[j-1][0] and x < point[j][0]:\n",
        "          theta0 = params[i][j-1][0]\n",
        "          theta1 = params[i][j-1][1]\n",
        "          mu_x[i] = theta0 + theta1 * x\n",
        "  return mu_x\n"
      ],
      "execution_count": 1,
      "outputs": []
    },
    {
      "cell_type": "code",
      "metadata": {
        "id": "wJ3NGZNKJWvW",
        "colab": {
          "base_uri": "https://localhost:8080/"
        },
        "outputId": "a90da0f5-7aa7-46f6-cf01-25e78e9725c7"
      },
      "source": [
        "funcs = np.array([2, 3, 3])\n",
        "points = np.array([[(24,1), (27,0), (0,0), (0,0)],\n",
        "                   [(24,0), (27,1), (30,0), (0,0)],\n",
        "                   [(27,0), (30,1), (33,0), (0,0)]])\n",
        "params = np.array([[(27/3, -1/3), (0,0), (0,0)],\n",
        "                   [(-24/3, 1/3), (30/3, -1/3), (0,0)],\n",
        "                   [(-27/3, 1/3), (33/3, -1/3), (0,0)]])\n",
        "x = 32\n",
        "fuzzify(funcs, points, params, x)"
      ],
      "execution_count": null,
      "outputs": [
        {
          "output_type": "stream",
          "text": [
            "point= [33  0]\n"
          ],
          "name": "stdout"
        },
        {
          "output_type": "execute_result",
          "data": {
            "text/plain": [
              "array([[0.        ],\n",
              "       [0.        ],\n",
              "       [0.33333333]])"
            ]
          },
          "metadata": {
            "tags": []
          },
          "execution_count": 85
        }
      ]
    },
    {
      "cell_type": "code",
      "metadata": {
        "colab": {
          "base_uri": "https://localhost:8080/"
        },
        "id": "qd0UkxPaDR4X",
        "outputId": "3455da43-7fa2-47a5-8b5c-6d2476c5f21b"
      },
      "source": [
        ""
      ],
      "execution_count": null,
      "outputs": [
        {
          "output_type": "execute_result",
          "data": {
            "text/plain": [
              "array([[0.],\n",
              "       [0.],\n",
              "       [0.],\n",
              "       [3.]])"
            ]
          },
          "metadata": {
            "tags": []
          },
          "execution_count": 11
        }
      ]
    },
    {
      "cell_type": "code",
      "metadata": {
        "colab": {
          "base_uri": "https://localhost:8080/"
        },
        "id": "ENreommsMaWz",
        "outputId": "f5f8225e-69ac-43a2-a5fe-a1f747467f7c"
      },
      "source": [
        ""
      ],
      "execution_count": null,
      "outputs": [
        {
          "output_type": "execute_result",
          "data": {
            "text/plain": [
              "(9.0, -0.3333333333333333)"
            ]
          },
          "metadata": {
            "tags": []
          },
          "execution_count": 15
        }
      ]
    },
    {
      "cell_type": "code",
      "metadata": {
        "id": "l5Cz0dLhW0qd"
      },
      "source": [
        "import numpy as np\n",
        "\n",
        "def infer(var0, var1):\n",
        "  mu_ = np.array([])\n",
        "  for i in range(len(var0)):\n",
        "    for j in range(len(var1)):\n",
        "      mu_ = np.append(mu_, min(var0[i], var1[j]))\n",
        "  return mu_\n",
        "\n",
        "def infer(var0, var1, var2):\n",
        "  mu_ = np.array([])\n",
        "  for i in range(len(var0)):\n",
        "    for j in range(len(var1)):\n",
        "      for k in range(len(var2)):\n",
        "        w_ = np.append(w_, min(var0[i], var1[j], var2[k]))\n",
        "  return mu_\n",
        "\n",
        "def infer(var0, var1, var2, var3):\n",
        "  mu_ = np.array([])\n",
        "  for i in range(len(var0)):\n",
        "    for j in range(len(var1)):\n",
        "      for k in range(len(var2)):\n",
        "        for l in range(len(var3)):\n",
        "          mu_ = np.append(mu_, min(var0[i], var1[j], var2[k], var3[l]))\n",
        "  return mu_\n",
        "\n",
        "def infer(var0, var1, var2, var4):\n",
        "  mu_ = np.array([])\n",
        "  for i in range(len(var0)):\n",
        "    for j in range(len(var1)):\n",
        "      for k in range(len(var2)):\n",
        "        for l in range(len(var3)):\n",
        "          for m in range(len(var4)):\n",
        "            mu_ = np.append(mu_, min(var0[i], var1[j], var2[k], var3[l], var4[m]))\n",
        "  return mu_\n",
        "\n",
        "def infer(var0, var1, var2, var3, var4, var5):\n",
        "  mu_ = np.array([])\n",
        "  for i in range(len(var0)):\n",
        "    for j in range(len(var1)):\n",
        "      for k in range(len(var2)):\n",
        "        for l in range(len(var3)):\n",
        "          for m in range(len(var4)):\n",
        "            for n in range(len(var5)):\n",
        "              mu_ = np.append(mu_, min(var0[i], var1[j], var2[k], var3[l], var4[m], var5[n]))\n",
        "  return mu_\n",
        "\n",
        "def get_x(coef_, y):\n",
        "  '''\n",
        "  Return x value for first degree equation.\n",
        "\n",
        "  Parameters\n",
        "  ----------\n",
        "  coef_ : tuple\n",
        "    Tuple containing a linear and angular coefficients respectively.\n",
        "    \n",
        "  y: float\n",
        "    Result value of sum between the linear coefficient and the product of x value and angular coefficient.\n",
        "\n",
        "  Returns\n",
        "  -------\n",
        "  x\n",
        "    Division result of subtraction of y and linear coefficient by angular coefficient.\n",
        "  '''\n",
        "\n",
        "  theta_0 = coef_[0]\n",
        "  theta_1 = coef_[1]\n",
        "  return (y - theta_0) / theta_1\n"
      ],
      "execution_count": null,
      "outputs": []
    },
    {
      "cell_type": "code",
      "metadata": {
        "id": "TLAIDtT51Idw",
        "colab": {
          "base_uri": "https://localhost:8080/"
        },
        "outputId": "cadb58dd-be7b-49ca-8cec-df15f97c1ad2"
      },
      "source": [
        "help(get_x)"
      ],
      "execution_count": null,
      "outputs": [
        {
          "output_type": "stream",
          "text": [
            "Help on function get_x in module __main__:\n",
            "\n",
            "get_x(coef_, y)\n",
            "    Return x value for first degree equation.\n",
            "    \n",
            "    Parameters\n",
            "    ----------\n",
            "    coef_ : tuple\n",
            "      Tuple containing a linear and angular coefficients respectively.\n",
            "      \n",
            "    y: float\n",
            "      Result value of sum between the linear coefficient and the product of x value and angular coefficient.\n",
            "    \n",
            "    Returns\n",
            "    -------\n",
            "    x\n",
            "      Division result of subtraction of y and linear coefficient by angular coefficient.\n",
            "\n"
          ],
          "name": "stdout"
        }
      ]
    },
    {
      "cell_type": "code",
      "metadata": {
        "id": "hcNiEs3P1SoM",
        "colab": {
          "base_uri": "https://localhost:8080/"
        },
        "outputId": "d0167924-ce67-4669-f585-434de4f54f01"
      },
      "source": [
        "get_x((2, 0.5), 3)"
      ],
      "execution_count": null,
      "outputs": [
        {
          "output_type": "execute_result",
          "data": {
            "text/plain": [
              "2.0"
            ]
          },
          "metadata": {
            "tags": []
          },
          "execution_count": 12
        }
      ]
    },
    {
      "cell_type": "code",
      "metadata": {
        "id": "q1Mvjiv5m2P9",
        "colab": {
          "base_uri": "https://localhost:8080/"
        },
        "outputId": "be59d6bc-1858-4130-d50e-90f9595269f1"
      },
      "source": [
        "arr = np.array([1, 2, 3, 2, 3, 5, 1, 2, 2])\n",
        "np.where(arr == 2)\n"
      ],
      "execution_count": null,
      "outputs": [
        {
          "output_type": "execute_result",
          "data": {
            "text/plain": [
              "(array([1, 3, 7, 8]),)"
            ]
          },
          "metadata": {
            "tags": []
          },
          "execution_count": 33
        }
      ]
    },
    {
      "cell_type": "code",
      "metadata": {
        "id": "Qff-2UHToj3B"
      },
      "source": [
        "def aggregation(mu_, rule_):\n",
        "  '''\n",
        "    Return a dictionary with the relation between linguistic term and maximum value\n",
        "\n",
        "  Parameters\n",
        "  ----------\n",
        "  mu_ : numpy.ndarray\n",
        "    Degree of membership for each rule\n",
        "  \n",
        "  rule_ : numpy.ndarray\n",
        "    Output rule of linguistic term\n",
        "\n",
        "  Returns\n",
        "  -------\n",
        "  agg : dict\n",
        "    Dictionary of maximum values for each linguistic term\n",
        "  '''\n",
        "\n",
        "  agg = {}\n",
        "  for term in np.unique(rule_):\n",
        "    agg.update({term: np.max(mu_[rule_ == term])})\n",
        "  return agg\n",
        "\n"
      ],
      "execution_count": 27,
      "outputs": []
    },
    {
      "cell_type": "code",
      "metadata": {
        "id": "hJkboD06rqkc",
        "colab": {
          "base_uri": "https://localhost:8080/"
        },
        "outputId": "f2f780d0-5c65-4ac9-f5c6-df3026a45343"
      },
      "source": [
        "np.zeros((3,4)).dtype"
      ],
      "execution_count": null,
      "outputs": [
        {
          "output_type": "execute_result",
          "data": {
            "text/plain": [
              "dtype('float64')"
            ]
          },
          "metadata": {
            "tags": []
          },
          "execution_count": 29
        }
      ]
    },
    {
      "cell_type": "code",
      "metadata": {
        "id": "LEPtptc5uK5e",
        "colab": {
          "base_uri": "https://localhost:8080/"
        },
        "outputId": "9d9e436a-4609-477b-8672-32ecf8ee4e51"
      },
      "source": [
        "type({1: 'Vma', 2: 'Va', 3: 'Vm'})"
      ],
      "execution_count": null,
      "outputs": [
        {
          "output_type": "execute_result",
          "data": {
            "text/plain": [
              "dict"
            ]
          },
          "metadata": {
            "tags": []
          },
          "execution_count": 31
        }
      ]
    },
    {
      "cell_type": "code",
      "metadata": {
        "id": "SnZiZMuauc6a",
        "colab": {
          "base_uri": "https://localhost:8080/"
        },
        "outputId": "85a2d483-571d-440d-f98c-db8389eddbb5"
      },
      "source": [
        "help(aggregation)"
      ],
      "execution_count": null,
      "outputs": [
        {
          "output_type": "stream",
          "text": [
            "Help on function aggregation in module __main__:\n",
            "\n",
            "aggregation(mu_, rule_)\n",
            "      Return a dictionary with the relation between linguistic term and maximum value\n",
            "    \n",
            "    Parameters\n",
            "    ----------\n",
            "    mu_ : numpy.ndarray\n",
            "      Degree of membership for each rule\n",
            "    \n",
            "    rule_ : numpy.ndarray\n",
            "      Output rule of linguistic term\n",
            "    \n",
            "    Returns\n",
            "    -------\n",
            "    agg : dict\n",
            "      Dictionary of maximum values for each linguistic term\n",
            "\n"
          ],
          "name": "stdout"
        }
      ]
    },
    {
      "cell_type": "code",
      "metadata": {
        "id": "9JibLiaz3MOQ"
      },
      "source": [
        "arr = np.array([1, 2, 3, 4, 2, 3, 4, 1, 2, 4, 3])"
      ],
      "execution_count": 16,
      "outputs": []
    },
    {
      "cell_type": "code",
      "metadata": {
        "id": "K1ug7dwMFyJ2",
        "outputId": "321edb87-30d9-482d-e0c3-5f9bc86ada1d",
        "colab": {
          "base_uri": "https://localhost:8080/",
          "height": 163
        }
      },
      "source": [
        ")"
      ],
      "execution_count": 20,
      "outputs": [
        {
          "output_type": "error",
          "ename": "TypeError",
          "evalue": "ignored",
          "traceback": [
            "\u001b[0;31m---------------------------------------------------------------------------\u001b[0m",
            "\u001b[0;31mTypeError\u001b[0m                                 Traceback (most recent call last)",
            "\u001b[0;32m<ipython-input-20-572858c9a9dd>\u001b[0m in \u001b[0;36m<module>\u001b[0;34m()\u001b[0m\n\u001b[0;32m----> 1\u001b[0;31m \u001b[0mnp\u001b[0m\u001b[0;34m.\u001b[0m\u001b[0mmax\u001b[0m\u001b[0;34m(\u001b[0m\u001b[0marr\u001b[0m\u001b[0;34m,\u001b[0m \u001b[0mwhere\u001b[0m\u001b[0;34m=\u001b[0m\u001b[0mnp\u001b[0m\u001b[0;34m.\u001b[0m\u001b[0mindices\u001b[0m\u001b[0;34m(\u001b[0m\u001b[0;34m)\u001b[0m\u001b[0;34m==\u001b[0m\u001b[0;34m[\u001b[0m\u001b[0;36m2\u001b[0m\u001b[0;34m,\u001b[0m \u001b[0;36m4\u001b[0m\u001b[0;34m,\u001b[0m \u001b[0;36m6\u001b[0m\u001b[0;34m,\u001b[0m \u001b[0;36m8\u001b[0m\u001b[0;34m]\u001b[0m\u001b[0;34m)\u001b[0m\u001b[0;34m\u001b[0m\u001b[0;34m\u001b[0m\u001b[0m\n\u001b[0m",
            "\u001b[0;31mTypeError\u001b[0m: indices() missing 1 required positional argument: 'dimensions'"
          ]
        }
      ]
    },
    {
      "cell_type": "code",
      "metadata": {
        "id": "T-NGLfhTKRIY",
        "outputId": "6911beb3-9fa4-4ca6-f294-cef4ca119ebb",
        "colab": {
          "base_uri": "https://localhost:8080/"
        }
      },
      "source": [
        "agg.update({'a': 3})\n",
        "agg.update({'a': 1})\n",
        "agg"
      ],
      "execution_count": 12,
      "outputs": [
        {
          "output_type": "execute_result",
          "data": {
            "text/plain": [
              "{'a': 1}"
            ]
          },
          "metadata": {
            "tags": []
          },
          "execution_count": 12
        }
      ]
    },
    {
      "cell_type": "code",
      "metadata": {
        "id": "kebz0SIHzhvd",
        "outputId": "32b4db0d-078d-498a-d46d-f2366e3881de",
        "colab": {
          "base_uri": "https://localhost:8080/"
        }
      },
      "source": [
        "var0 = np.array([0, 1])\n",
        "var1 = np.array([0.5, 0.0, 0.0, 0.0])\n",
        "var2 = np.array([0.25, 0.25, 0.0, 0.0])\n",
        "len(infer([var0, var1, var2]))"
      ],
      "execution_count": 76,
      "outputs": [
        {
          "output_type": "execute_result",
          "data": {
            "text/plain": [
              "32"
            ]
          },
          "metadata": {
            "tags": []
          },
          "execution_count": 76
        }
      ]
    },
    {
      "cell_type": "code",
      "metadata": {
        "id": "zyd3syaXLGoL",
        "outputId": "813be66d-33e1-4ea1-af65-08c2e90b7252",
        "colab": {
          "base_uri": "https://localhost:8080/"
        }
      },
      "source": [
        "rule_ = np.array(['Muito pouco', 'Pouco', 'Moderado', 'Moderado', 'Pouco', 'Pouco', 'Moderado', 'Exagerado',\n",
        "'Moderado', 'Moderado', 'Exagerado', 'Exagerado', 'Moderado', 'Exagerado', 'Máximo', 'Máximo'])\n",
        "\n",
        "mu_ = np.array([0.25, 0.25, 0.0, 0.0, 0.0, 0.0, 0.0, 0.0, 0.0, 0.0, 0.0, 0.0, 0.0, 0.0, 0.0, 0.0])\n",
        "\n",
        "aggregation(mu_, rule_)\n",
        "\n"
      ],
      "execution_count": 28,
      "outputs": [
        {
          "output_type": "execute_result",
          "data": {
            "text/plain": [
              "{'Exagerado': 0.0,\n",
              " 'Moderado': 0.0,\n",
              " 'Muito pouco': 0.25,\n",
              " 'Máximo': 0.0,\n",
              " 'Pouco': 0.25}"
            ]
          },
          "metadata": {
            "tags": []
          },
          "execution_count": 28
        }
      ]
    },
    {
      "cell_type": "code",
      "metadata": {
        "id": "L9Hv8xe-XHfh",
        "outputId": "8f669a11-1fe5-44e5-e043-23190134ae84",
        "colab": {
          "base_uri": "https://localhost:8080/"
        }
      },
      "source": [
        "np.array([[[0, 1], [10, 11]], [[20, 21], [30, 31]]])"
      ],
      "execution_count": 25,
      "outputs": [
        {
          "output_type": "execute_result",
          "data": {
            "text/plain": [
              "array([[[ 0,  1],\n",
              "        [10, 11]],\n",
              "\n",
              "       [[20, 21],\n",
              "        [30, 31]]])"
            ]
          },
          "metadata": {
            "tags": []
          },
          "execution_count": 25
        }
      ]
    },
    {
      "cell_type": "code",
      "metadata": {
        "id": "QLWTTTWAXOVr"
      },
      "source": [
        "def get_mins(var0, var1):\n",
        "  min_ = np.array([])\n",
        "  for i in var0:\n",
        "    for j in var1:\n",
        "      x = min(i, j)\n",
        "      min_ = np.append(min_, x)\n",
        "  return min_\n",
        "\n",
        " \n",
        "def infer(vars_):\n",
        "  n = len(vars_)\n",
        "  if (n == 2):\n",
        "    return get_mins(vars_[0], vars_[1])\n",
        "  else:\n",
        "    var0 = vars_[0]\n",
        "    var1 = infer(vars_[1:n])\n",
        "    return get_mins(var0, var1)"
      ],
      "execution_count": 74,
      "outputs": []
    },
    {
      "cell_type": "code",
      "metadata": {
        "id": "y0m1e5ZpftOb",
        "outputId": "dfa44046-1277-4a63-923b-e1f9bc1bc4c5",
        "colab": {
          "base_uri": "https://localhost:8080/"
        }
      },
      "source": [
        "var0_ = np.array([[0], [1], [3], [4], [5]])\n",
        "var1_ = np.array([[0], [1], [3], [4]])\n",
        "var2_ = np.array([[0], [1], [2]])\n",
        "\n",
        "test(var0_, var1_, var2_)\n"
      ],
      "execution_count": 46,
      "outputs": [
        {
          "output_type": "execute_result",
          "data": {
            "text/plain": [
              "(array([[0],\n",
              "        [1],\n",
              "        [3],\n",
              "        [4],\n",
              "        [5]]), array([[0],\n",
              "        [1],\n",
              "        [3],\n",
              "        [4]]))"
            ]
          },
          "metadata": {
            "tags": []
          },
          "execution_count": 46
        }
      ]
    },
    {
      "cell_type": "code",
      "metadata": {
        "id": "JAxn2r72f1_5"
      },
      "source": [
        "arr = []\n",
        "arr.append(0)"
      ],
      "execution_count": 49,
      "outputs": []
    },
    {
      "cell_type": "code",
      "metadata": {
        "id": "FYXyEzOQnbpc",
        "outputId": "773b5130-00a8-4e1b-cce4-e2873f6f9b99",
        "colab": {
          "base_uri": "https://localhost:8080/"
        }
      },
      "source": [
        "arr"
      ],
      "execution_count": 50,
      "outputs": [
        {
          "output_type": "execute_result",
          "data": {
            "text/plain": [
              "[0]"
            ]
          },
          "metadata": {
            "tags": []
          },
          "execution_count": 50
        }
      ]
    },
    {
      "cell_type": "code",
      "metadata": {
        "id": "dD_a5CGtoS2C"
      },
      "source": [
        ""
      ],
      "execution_count": null,
      "outputs": []
    }
  ]
}