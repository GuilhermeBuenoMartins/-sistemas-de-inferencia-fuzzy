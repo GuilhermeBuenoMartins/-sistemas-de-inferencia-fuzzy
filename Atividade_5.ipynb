{
  "nbformat": 4,
  "nbformat_minor": 0,
  "metadata": {
    "colab": {
      "name": "Atividade-5.ipynb",
      "provenance": [],
      "collapsed_sections": [],
      "include_colab_link": true
    },
    "kernelspec": {
      "name": "python3",
      "display_name": "Python 3"
    },
    "language_info": {
      "name": "python"
    }
  },
  "cells": [
    {
      "cell_type": "markdown",
      "metadata": {
        "id": "view-in-github",
        "colab_type": "text"
      },
      "source": [
        "<a href=\"https://colab.research.google.com/github/GuilhermeBuenoMartins/sistemas-de-inferencia-fuzzy/blob/develop/Atividade_5.ipynb\" target=\"_parent\"><img src=\"https://colab.research.google.com/assets/colab-badge.svg\" alt=\"Open In Colab\"/></a>"
      ]
    },
    {
      "cell_type": "code",
      "metadata": {
        "id": "Ihv-5kZ9toSR"
      },
      "source": [
        "import numpy as np\n",
        "\n",
        "def straight_equation(x , y):\n",
        "  theta1 = (y[1] - y[0]) / (x[1] - x[0])\n",
        "  theta0 = y[0] - theta1 * x[0]\n",
        "  return (theta0, theta1)\n",
        "\n",
        "def gauss_equation(x , y):\n",
        "  sigma = abs(x[1] - x[0])\n",
        "  mean = x[y.index(1)]\n",
        "  return (mean, sigma)\n",
        "\n",
        "def compare(point0, point1):\n",
        "  return point0[0] == point1[0] and point0[1] == point1[1]\n",
        "\n",
        "def fuzzify(funcs, points, params, x):\n",
        "  n = len(funcs)\n",
        "  mu_x = np.zeros((n, 1))\n",
        "  for i in range(n):\n",
        "    m = funcs[i]\n",
        "    point0 = points[i][0]\n",
        "    pointn = points[i][m-1]\n",
        "    for j in range(m):\n",
        "      if x <= point0[0]:\n",
        "        mu_x[i] = point0[1]\n",
        "      elif  x >= pointn[0]:\n",
        "        mu_x[i] = pointn[1]\n",
        "      elif x > point0[0] and x < pointn[0]:\n",
        "        point = points[i]\n",
        "        if x >= point[j-1][0] and x < point[j][0]:\n",
        "          theta0 = params[i][j-1][0]\n",
        "          theta1 = params[i][j-1][1]\n",
        "          mu_x[i] = theta0 + theta1 * x\n",
        "  return mu_x\n"
      ],
      "execution_count": null,
      "outputs": []
    },
    {
      "cell_type": "code",
      "metadata": {
        "id": "wJ3NGZNKJWvW",
        "colab": {
          "base_uri": "https://localhost:8080/"
        },
        "outputId": "a90da0f5-7aa7-46f6-cf01-25e78e9725c7"
      },
      "source": [
        "funcs = np.array([2, 3, 3])\n",
        "points = np.array([[(24,1), (27,0), (0,0), (0,0)],\n",
        "                   [(24,0), (27,1), (30,0), (0,0)],\n",
        "                   [(27,0), (30,1), (33,0), (0,0)]])\n",
        "params = np.array([[(27/3, -1/3), (0,0), (0,0)],\n",
        "                   [(-24/3, 1/3), (30/3, -1/3), (0,0)],\n",
        "                   [(-27/3, 1/3), (33/3, -1/3), (0,0)]])\n",
        "x = 32\n",
        "fuzzify(funcs, points, params, x)"
      ],
      "execution_count": null,
      "outputs": [
        {
          "output_type": "stream",
          "text": [
            "point= [33  0]\n"
          ],
          "name": "stdout"
        },
        {
          "output_type": "execute_result",
          "data": {
            "text/plain": [
              "array([[0.        ],\n",
              "       [0.        ],\n",
              "       [0.33333333]])"
            ]
          },
          "metadata": {
            "tags": []
          },
          "execution_count": 85
        }
      ]
    },
    {
      "cell_type": "code",
      "metadata": {
        "colab": {
          "base_uri": "https://localhost:8080/"
        },
        "id": "qd0UkxPaDR4X",
        "outputId": "3455da43-7fa2-47a5-8b5c-6d2476c5f21b"
      },
      "source": [
        ""
      ],
      "execution_count": null,
      "outputs": [
        {
          "output_type": "execute_result",
          "data": {
            "text/plain": [
              "array([[0.],\n",
              "       [0.],\n",
              "       [0.],\n",
              "       [3.]])"
            ]
          },
          "metadata": {
            "tags": []
          },
          "execution_count": 11
        }
      ]
    },
    {
      "cell_type": "code",
      "metadata": {
        "colab": {
          "base_uri": "https://localhost:8080/"
        },
        "id": "ENreommsMaWz",
        "outputId": "f5f8225e-69ac-43a2-a5fe-a1f747467f7c"
      },
      "source": [
        ""
      ],
      "execution_count": null,
      "outputs": [
        {
          "output_type": "execute_result",
          "data": {
            "text/plain": [
              "(9.0, -0.3333333333333333)"
            ]
          },
          "metadata": {
            "tags": []
          },
          "execution_count": 15
        }
      ]
    },
    {
      "cell_type": "code",
      "metadata": {
        "id": "l5Cz0dLhW0qd"
      },
      "source": [
        "import numpy as np\n",
        "\n",
        "def infer(var0, var1):\n",
        "  w_ = np.array([])\n",
        "  for i in range(len(var0)):\n",
        "    for j in range(len(var1)):\n",
        "      w_ = np.append(w_, min(var0[i], var1[j]))\n",
        "  return w_\n",
        "\n",
        "def infer(var0, var1, var2):\n",
        "  w_ = np.array([])\n",
        "  for i in range(len(var0)):\n",
        "    for j in range(len(var1)):\n",
        "      for k in range(len(var2)):\n",
        "        w_ = np.append(w_, min(var0[i], var1[j], var2[k]))\n",
        "  return w_\n",
        "\n",
        "def infer(var0, var1, var2, var3):\n",
        "  w_ = np.array([])\n",
        "  for i in range(len(var0)):\n",
        "    for j in range(len(var1)):\n",
        "      for k in range(len(var2)):\n",
        "        for l in range(len(var3)):\n",
        "          w_ = np.append(w_i, min(var0[i], var1[j], var2[k], var3[l]))\n",
        "  return w_\n",
        "\n",
        "def infer(var0, var1, var2, var4):\n",
        "  w_ = np.array([])\n",
        "  for i in range(len(var0)):\n",
        "    for j in range(len(var1)):\n",
        "      for k in range(len(var2)):\n",
        "        for l in range(len(var3)):\n",
        "          for m in range(len(var4)):\n",
        "            w_ = np.append(w_, min(var0[i], var1[j], var2[k], var3[l], var4[m]))\n",
        "  return w_\n",
        "\n",
        "def infer(var0, var1, var2, var3, var4, var5):\n",
        "  w_ = np.array([])\n",
        "  for i in range(len(var0)):\n",
        "    for j in range(len(var1)):\n",
        "      for k in range(len(var2)):\n",
        "        for l in range(len(var3)):\n",
        "          for m in range(len(var4)):\n",
        "            for n in range(len(var5)):\n",
        "              w_ = np.append(w_, min(var0[i], var1[j], var2[k], var3[l], var4[m], var5[n]))\n",
        "  return w_\n"
      ],
      "execution_count": 2,
      "outputs": []
    },
    {
      "cell_type": "code",
      "metadata": {
        "id": "Zm9n-7FOY4IM"
      },
      "source": [
        "def fatorial(n):\n",
        "  if (n == 0):\n",
        "    return 1\n",
        "  else:\n",
        "    return n * fatorial(n-1)"
      ],
      "execution_count": 7,
      "outputs": []
    },
    {
      "cell_type": "code",
      "metadata": {
        "id": "TLAIDtT51Idw",
        "outputId": "ecc75aa6-d786-45eb-aecb-36f6d2103f2b",
        "colab": {
          "base_uri": "https://localhost:8080/"
        }
      },
      "source": [
        "fatorial(3)"
      ],
      "execution_count": 8,
      "outputs": [
        {
          "output_type": "execute_result",
          "data": {
            "text/plain": [
              "6"
            ]
          },
          "metadata": {
            "tags": []
          },
          "execution_count": 8
        }
      ]
    },
    {
      "cell_type": "code",
      "metadata": {
        "id": "hcNiEs3P1SoM"
      },
      "source": [
        ""
      ],
      "execution_count": null,
      "outputs": []
    },
    {
      "cell_type": "markdown",
      "metadata": {
        "id": "46JccOU_5Psd"
      },
      "source": [
        "$w_i$"
      ]
    }
  ]
}