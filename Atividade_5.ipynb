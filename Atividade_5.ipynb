{
  "nbformat": 4,
  "nbformat_minor": 0,
  "metadata": {
    "colab": {
      "name": "Atividade-5.ipynb",
      "provenance": [],
      "collapsed_sections": [],
      "include_colab_link": true
    },
    "kernelspec": {
      "name": "python3",
      "display_name": "Python 3"
    },
    "language_info": {
      "name": "python"
    }
  },
  "cells": [
    {
      "cell_type": "markdown",
      "metadata": {
        "id": "view-in-github",
        "colab_type": "text"
      },
      "source": [
        "<a href=\"https://colab.research.google.com/github/GuilhermeBuenoMartins/sistemas-de-inferencia-fuzzy/blob/develop/Atividade_5.ipynb\" target=\"_parent\"><img src=\"https://colab.research.google.com/assets/colab-badge.svg\" alt=\"Open In Colab\"/></a>"
      ]
    },
    {
      "cell_type": "code",
      "metadata": {
        "id": "Ihv-5kZ9toSR"
      },
      "source": [
        "import numpy as np\n",
        "\n",
        "def straight_equation(x , y):\n",
        "  theta1 = (y[1] - y[0]) / (x[1] - x[0])\n",
        "  theta0 = y[0] - theta1 * x[0]\n",
        "  return (theta0, theta1)\n",
        "\n",
        "def first_degree(coef, x):\n",
        "  theta_0, theta_1 = coef\n",
        "  y = theta_0 + theta_1 * x\n",
        "  return y\n",
        "\n",
        "  def get_x(coef_, y):\n",
        "  '''\n",
        "  Return x value for first degree equation.\n",
        "\n",
        "  Parameters\n",
        "  ----------\n",
        "  coef_ : tuple\n",
        "    Tuple containing a linear and angular coefficients respectively.\n",
        "    \n",
        "  y: float\n",
        "    Result value of sum between the linear coefficient and the product of x value and angular coefficient.\n",
        "\n",
        "  Returns\n",
        "  -------\n",
        "  x\n",
        "    Division result of subtraction of y and linear coefficient by angular coefficient.\n",
        "  '''\n",
        "\n",
        "  theta_0 = coef_[0]\n",
        "  theta_1 = coef_[1]\n",
        "  return (y - theta_0) / theta_1\n",
        "\n",
        "def gauss_equation(x , y):\n",
        "  sigma = abs(x[1] - x[0])\n",
        "  mean = x[y.index(1)]\n",
        "  return (mean, sigma)\n",
        "\n",
        "def compare(point0, point1):\n",
        "  return point0[0] == point1[0] and point0[1] == point1[1]\n",
        "\n",
        "def fuzzify(vertices_, coefs_, x):\n",
        "  '''\n",
        "    Return a vector with degree of membership for each linguistic term.\n",
        "\n",
        "    Parameters\n",
        "    ----------\n",
        "    vertex_ : list\n",
        "      Matrix of points of linguist term vertices.\n",
        "\n",
        "    coef_ : list\n",
        "      Matrix of tuple of linear and angular coefficients respectively.\n",
        "\n",
        "    x : float\n",
        "      Values of x.\n",
        "\n",
        "    Returns\n",
        "    -------\n",
        "    mu_ : numpy.ndarry\n",
        "      Vector of degree of membership for each linguistic term.\n",
        "  '''\n",
        "\n",
        "  n = len(vertices_)\n",
        "  mu_ = np.zeros((n,))\n",
        "  for i in range(n):\n",
        "    vertex_ = vertices_[i]\n",
        "    m = len(vertex_)\n",
        "    if (x <= vertex_[0][0]):\n",
        "      mu_[i] = vertex_[0][1]\n",
        "    elif (x > vertex_[-1][0]):\n",
        "      mu_[i] = vertex_[-1][1]\n",
        "    for j in range(1, m):\n",
        "      if (x <= vertex_[j][0] and x > vertex_[j-1][0]):\n",
        "        mu_[i] = first_degree(coef_[i][j-1], x)\n",
        "  return mu_\n",
        "\n",
        "def aggregation(mu_, rule_):\n",
        "  '''\n",
        "    Return a dictionary with the relation between linguistic term and maximum value\n",
        "\n",
        "  Parameters\n",
        "  ----------\n",
        "  mu_ : numpy.ndarray\n",
        "    Degree of membership for each rule\n",
        "  \n",
        "  rule_ : numpy.ndarray\n",
        "    Output rule of linguistic term\n",
        "\n",
        "  Returns\n",
        "  -------\n",
        "  agg : dict\n",
        "    Dictionary of maximum values for each linguistic term\n",
        "  '''\n",
        "\n",
        "  agg = {}\n",
        "  for term in np.unique(rule_):\n",
        "    agg.update({term: np.max(mu_[rule_ == term])})\n",
        "  return agg\n",
        "\n",
        "def get_mins(var0, var1):\n",
        "  min_ = np.array([])\n",
        "  for i in var0:\n",
        "    for j in var1:\n",
        "      x = min(i, j)\n",
        "      min_ = np.append(min_, x)\n",
        "  return min_\n",
        "\n",
        " \n",
        "def infer(vars_):\n",
        "  n = len(vars_)\n",
        "  if (n == 2):\n",
        "    return get_mins(vars_[0], vars_[1])\n",
        "  else:\n",
        "    var0 = vars_[0]\n",
        "    var1 = infer(vars_[1:n])\n",
        "    return get_mins(var0, var1)"
      ],
      "execution_count": 46,
      "outputs": []
    },
    {
      "cell_type": "code",
      "metadata": {
        "id": "nCCkVxJrOlXK",
        "outputId": "fc7604c3-9c87-4ea1-c6d0-9b3b7c84e423",
        "colab": {
          "base_uri": "https://localhost:8080/"
        }
      },
      "source": [
        "n, m = np.shape([[2, 3, 4], [5, 6, 7], [8, 9, np.nan]])\n",
        "print('n = ', n)\n",
        "print('m = ', m)\n",
        "arr = np.array([[2, 3, 4], [5, 6, 7], [8, 9, np.nan]])\n",
        "2 <= arr[2,2]"
      ],
      "execution_count": 18,
      "outputs": [
        {
          "output_type": "stream",
          "text": [
            "n =  3\n",
            "m =  3\n"
          ],
          "name": "stdout"
        },
        {
          "output_type": "execute_result",
          "data": {
            "text/plain": [
              "False"
            ]
          },
          "metadata": {
            "tags": []
          },
          "execution_count": 18
        }
      ]
    },
    {
      "cell_type": "code",
      "metadata": {
        "id": "wJ3NGZNKJWvW",
        "colab": {
          "base_uri": "https://localhost:8080/"
        },
        "outputId": "fbc7d33d-1ed7-4def-b3db-e1c68f0d0cb0"
      },
      "source": [
        "funcs = np.array([2, 3, 3])\n",
        "vertex_ = [[(0, 1), (10, 0)],\n",
        "           [(0, 0), (10, 1), (20, 0)],\n",
        "           [(10, 0), (20, 1), (30,0)],\n",
        "           [(20, 0), (30, 1), (40,0)]]\n",
        "coef_ = [[(10/10, -1/10)],\n",
        "         [(0/10, 1/10), (20/10, -1/10)],\n",
        "         [(-10/10, 1/10), (30/10, -1/10)],\n",
        "         [(-20/10, 1/10), (40/10, -1/10)]]\n",
        "x = 21\n",
        "fuzzify(vertex_, coef_, x)"
      ],
      "execution_count": 54,
      "outputs": [
        {
          "output_type": "execute_result",
          "data": {
            "text/plain": [
              "array([0. , 0. , 0.9, 0.1])"
            ]
          },
          "metadata": {
            "tags": []
          },
          "execution_count": 54
        }
      ]
    },
    {
      "cell_type": "code",
      "metadata": {
        "colab": {
          "base_uri": "https://localhost:8080/"
        },
        "id": "qd0UkxPaDR4X",
        "outputId": "05c51008-6bcf-4c20-82fb-86c7480d3a32"
      },
      "source": [
        "values = (3, 5)\n",
        "value_0, value_1 = values\n",
        "print('Kind of values', type(values))\n",
        "print('value_0', value_0)\n",
        "print('value_1', value_1)"
      ],
      "execution_count": 20,
      "outputs": [
        {
          "output_type": "stream",
          "text": [
            "Kind of values <class 'tuple'>\n",
            "value_0 3\n",
            "value_1 5\n"
          ],
          "name": "stdout"
        }
      ]
    },
    {
      "cell_type": "code",
      "metadata": {
        "colab": {
          "base_uri": "https://localhost:8080/"
        },
        "id": "ENreommsMaWz",
        "outputId": "febed3e8-bf67-469c-9739-22860be2d38c"
      },
      "source": [
        "l = [[1, 2, 3], [3, 4, 5], [3, 5, 6]]\n",
        "l.index([3, 5, 6])"
      ],
      "execution_count": 33,
      "outputs": [
        {
          "output_type": "execute_result",
          "data": {
            "text/plain": [
              "2"
            ]
          },
          "metadata": {
            "tags": []
          },
          "execution_count": 33
        }
      ]
    },
    {
      "cell_type": "code",
      "metadata": {
        "id": "TLAIDtT51Idw",
        "colab": {
          "base_uri": "https://localhost:8080/"
        },
        "outputId": "cadb58dd-be7b-49ca-8cec-df15f97c1ad2"
      },
      "source": [
        "help(get_x)"
      ],
      "execution_count": null,
      "outputs": [
        {
          "output_type": "stream",
          "text": [
            "Help on function get_x in module __main__:\n",
            "\n",
            "get_x(coef_, y)\n",
            "    Return x value for first degree equation.\n",
            "    \n",
            "    Parameters\n",
            "    ----------\n",
            "    coef_ : tuple\n",
            "      Tuple containing a linear and angular coefficients respectively.\n",
            "      \n",
            "    y: float\n",
            "      Result value of sum between the linear coefficient and the product of x value and angular coefficient.\n",
            "    \n",
            "    Returns\n",
            "    -------\n",
            "    x\n",
            "      Division result of subtraction of y and linear coefficient by angular coefficient.\n",
            "\n"
          ],
          "name": "stdout"
        }
      ]
    },
    {
      "cell_type": "code",
      "metadata": {
        "id": "hcNiEs3P1SoM",
        "colab": {
          "base_uri": "https://localhost:8080/"
        },
        "outputId": "d0167924-ce67-4669-f585-434de4f54f01"
      },
      "source": [
        "get_x((2, 0.5), 3)"
      ],
      "execution_count": null,
      "outputs": [
        {
          "output_type": "execute_result",
          "data": {
            "text/plain": [
              "2.0"
            ]
          },
          "metadata": {
            "tags": []
          },
          "execution_count": 12
        }
      ]
    },
    {
      "cell_type": "code",
      "metadata": {
        "id": "q1Mvjiv5m2P9",
        "colab": {
          "base_uri": "https://localhost:8080/"
        },
        "outputId": "be59d6bc-1858-4130-d50e-90f9595269f1"
      },
      "source": [
        "arr = np.array([1, 2, 3, 2, 3, 5, 1, 2, 2])\n",
        "np.where(arr == 2)\n"
      ],
      "execution_count": null,
      "outputs": [
        {
          "output_type": "execute_result",
          "data": {
            "text/plain": [
              "(array([1, 3, 7, 8]),)"
            ]
          },
          "metadata": {
            "tags": []
          },
          "execution_count": 33
        }
      ]
    },
    {
      "cell_type": "code",
      "metadata": {
        "id": "Qff-2UHToj3B"
      },
      "source": [
        "\n",
        "\n"
      ],
      "execution_count": 6,
      "outputs": []
    },
    {
      "cell_type": "code",
      "metadata": {
        "id": "hJkboD06rqkc",
        "colab": {
          "base_uri": "https://localhost:8080/"
        },
        "outputId": "f2f780d0-5c65-4ac9-f5c6-df3026a45343"
      },
      "source": [
        "np.zeros((3,4)).dtype"
      ],
      "execution_count": null,
      "outputs": [
        {
          "output_type": "execute_result",
          "data": {
            "text/plain": [
              "dtype('float64')"
            ]
          },
          "metadata": {
            "tags": []
          },
          "execution_count": 29
        }
      ]
    },
    {
      "cell_type": "code",
      "metadata": {
        "id": "LEPtptc5uK5e",
        "colab": {
          "base_uri": "https://localhost:8080/"
        },
        "outputId": "9d9e436a-4609-477b-8672-32ecf8ee4e51"
      },
      "source": [
        "type({1: 'Vma', 2: 'Va', 3: 'Vm'})"
      ],
      "execution_count": null,
      "outputs": [
        {
          "output_type": "execute_result",
          "data": {
            "text/plain": [
              "dict"
            ]
          },
          "metadata": {
            "tags": []
          },
          "execution_count": 31
        }
      ]
    },
    {
      "cell_type": "code",
      "metadata": {
        "id": "SnZiZMuauc6a",
        "colab": {
          "base_uri": "https://localhost:8080/"
        },
        "outputId": "85a2d483-571d-440d-f98c-db8389eddbb5"
      },
      "source": [
        "help(aggregation)"
      ],
      "execution_count": null,
      "outputs": [
        {
          "output_type": "stream",
          "text": [
            "Help on function aggregation in module __main__:\n",
            "\n",
            "aggregation(mu_, rule_)\n",
            "      Return a dictionary with the relation between linguistic term and maximum value\n",
            "    \n",
            "    Parameters\n",
            "    ----------\n",
            "    mu_ : numpy.ndarray\n",
            "      Degree of membership for each rule\n",
            "    \n",
            "    rule_ : numpy.ndarray\n",
            "      Output rule of linguistic term\n",
            "    \n",
            "    Returns\n",
            "    -------\n",
            "    agg : dict\n",
            "      Dictionary of maximum values for each linguistic term\n",
            "\n"
          ],
          "name": "stdout"
        }
      ]
    },
    {
      "cell_type": "code",
      "metadata": {
        "id": "9JibLiaz3MOQ"
      },
      "source": [
        "arr = np.array([1, 2, 3, 4, 2, 3, 4, 1, 2, 4, 3])"
      ],
      "execution_count": 16,
      "outputs": []
    },
    {
      "cell_type": "code",
      "metadata": {
        "colab": {
          "base_uri": "https://localhost:8080/",
          "height": 163
        },
        "id": "K1ug7dwMFyJ2",
        "outputId": "321edb87-30d9-482d-e0c3-5f9bc86ada1d"
      },
      "source": [
        ")"
      ],
      "execution_count": 20,
      "outputs": [
        {
          "output_type": "error",
          "ename": "TypeError",
          "evalue": "ignored",
          "traceback": [
            "\u001b[0;31m---------------------------------------------------------------------------\u001b[0m",
            "\u001b[0;31mTypeError\u001b[0m                                 Traceback (most recent call last)",
            "\u001b[0;32m<ipython-input-20-572858c9a9dd>\u001b[0m in \u001b[0;36m<module>\u001b[0;34m()\u001b[0m\n\u001b[0;32m----> 1\u001b[0;31m \u001b[0mnp\u001b[0m\u001b[0;34m.\u001b[0m\u001b[0mmax\u001b[0m\u001b[0;34m(\u001b[0m\u001b[0marr\u001b[0m\u001b[0;34m,\u001b[0m \u001b[0mwhere\u001b[0m\u001b[0;34m=\u001b[0m\u001b[0mnp\u001b[0m\u001b[0;34m.\u001b[0m\u001b[0mindices\u001b[0m\u001b[0;34m(\u001b[0m\u001b[0;34m)\u001b[0m\u001b[0;34m==\u001b[0m\u001b[0;34m[\u001b[0m\u001b[0;36m2\u001b[0m\u001b[0;34m,\u001b[0m \u001b[0;36m4\u001b[0m\u001b[0;34m,\u001b[0m \u001b[0;36m6\u001b[0m\u001b[0;34m,\u001b[0m \u001b[0;36m8\u001b[0m\u001b[0;34m]\u001b[0m\u001b[0;34m)\u001b[0m\u001b[0;34m\u001b[0m\u001b[0;34m\u001b[0m\u001b[0m\n\u001b[0m",
            "\u001b[0;31mTypeError\u001b[0m: indices() missing 1 required positional argument: 'dimensions'"
          ]
        }
      ]
    },
    {
      "cell_type": "code",
      "metadata": {
        "colab": {
          "base_uri": "https://localhost:8080/"
        },
        "id": "T-NGLfhTKRIY",
        "outputId": "6911beb3-9fa4-4ca6-f294-cef4ca119ebb"
      },
      "source": [
        "agg.update({'a': 3})\n",
        "agg.update({'a': 1})\n",
        "agg"
      ],
      "execution_count": 12,
      "outputs": [
        {
          "output_type": "execute_result",
          "data": {
            "text/plain": [
              "{'a': 1}"
            ]
          },
          "metadata": {
            "tags": []
          },
          "execution_count": 12
        }
      ]
    },
    {
      "cell_type": "code",
      "metadata": {
        "colab": {
          "base_uri": "https://localhost:8080/"
        },
        "id": "kebz0SIHzhvd",
        "outputId": "32b4db0d-078d-498a-d46d-f2366e3881de"
      },
      "source": [
        "var0 = np.array([0, 1])\n",
        "var1 = np.array([0.5, 0.0, 0.0, 0.0])\n",
        "var2 = np.array([0.25, 0.25, 0.0, 0.0])\n",
        "len(infer([var0, var1, var2]))"
      ],
      "execution_count": 76,
      "outputs": [
        {
          "output_type": "execute_result",
          "data": {
            "text/plain": [
              "32"
            ]
          },
          "metadata": {
            "tags": []
          },
          "execution_count": 76
        }
      ]
    },
    {
      "cell_type": "code",
      "metadata": {
        "colab": {
          "base_uri": "https://localhost:8080/"
        },
        "id": "zyd3syaXLGoL",
        "outputId": "2edb913b-cd04-496b-81d4-0fd392aa5d1e"
      },
      "source": [
        "rule_ = np.array(['Vma', 'Vma', 'Vma', 'Vma', 'Va', '-', '-','Vma','Vma',  'Vma', 'Va', 'Va', '-', '-', 'Vma','Vma', 'Vma', 'Va', 'Vm','-', '-',\n",
        " 'Vma', 'Vma', 'Va', 'Va', 'Vm', '-', '-', 'Vma', 'Vma', 'Va', 'Vm', 'Vb', '-', '-', 'Vma', 'Vma', 'Va', 'Vm', '-', '-', '-',\n",
        " 'Vma', 'Vma', 'Va', 'Vm', '-', '-', '-', 'Vma', 'Va', 'Vm', 'Vb', '-', '-', '-', 'Va', 'Vm', 'Vm', 'Vb', '-', '-', '-', \n",
        "'Va','Vm', 'Vb', 'Vmb', '-', '-', '-'])\n",
        "\n",
        "mu_ = np.array([0.0, 0.0, 0.0, 0.0, 0.0, 0.0, 0.0, 0.0, 0.0, 0.0, 0.0, 0.0, 0.0, 0.0, 0.0, 0.0, 0.0, 0.0, 0.0, 0.0, 0.0, 0.0, 0.0, 0.0, 0.0, \n",
        "                0.0, 0.0, 0.0, 0.0, 0.0, 0.0, 0.0, 0.0, 0.0, 0.0, 0.0, 0.0, 0.25, 0.1, 0.0, 0.0, 0.0, 0.0, 0.0, 0.75, 0.1, 0.0, 0.0, \n",
        "                0.0, 0.0, 0.0, 0.0, 0.0, 0.0, 0.0, 0.0, 0.0, 0.0, 0.0, 0.0, 0.0, 0.0, 0.0, 0.0, 0.0, 0.0, 0.0, 0.0, 0.0, 0.0])\n",
        "\n",
        "aggregation(mu_, rule_)\n",
        "\n"
      ],
      "execution_count": 7,
      "outputs": [
        {
          "output_type": "execute_result",
          "data": {
            "text/plain": [
              "{'-': 0.0, 'Va': 0.75, 'Vb': 0.0, 'Vm': 0.1, 'Vma': 0.0, 'Vmb': 0.0}"
            ]
          },
          "metadata": {
            "tags": []
          },
          "execution_count": 7
        }
      ]
    },
    {
      "cell_type": "code",
      "metadata": {
        "colab": {
          "base_uri": "https://localhost:8080/"
        },
        "id": "L9Hv8xe-XHfh",
        "outputId": "8f669a11-1fe5-44e5-e043-23190134ae84"
      },
      "source": [
        "np.array([[[0, 1], [10, 11]], [[20, 21], [30, 31]]])"
      ],
      "execution_count": 25,
      "outputs": [
        {
          "output_type": "execute_result",
          "data": {
            "text/plain": [
              "array([[[ 0,  1],\n",
              "        [10, 11]],\n",
              "\n",
              "       [[20, 21],\n",
              "        [30, 31]]])"
            ]
          },
          "metadata": {
            "tags": []
          },
          "execution_count": 25
        }
      ]
    },
    {
      "cell_type": "code",
      "metadata": {
        "id": "QLWTTTWAXOVr"
      },
      "source": [
        ""
      ],
      "execution_count": 74,
      "outputs": []
    },
    {
      "cell_type": "code",
      "metadata": {
        "id": "a8Zjh7PI3fiQ",
        "outputId": "3329c8ba-d206-4f29-c746-915784ffa1e7",
        "colab": {
          "base_uri": "https://localhost:8080/"
        }
      },
      "source": [
        "len()"
      ],
      "execution_count": 1,
      "outputs": [
        {
          "output_type": "execute_result",
          "data": {
            "text/plain": [
              "70"
            ]
          },
          "metadata": {
            "tags": []
          },
          "execution_count": 1
        }
      ]
    },
    {
      "cell_type": "code",
      "metadata": {
        "colab": {
          "base_uri": "https://localhost:8080/"
        },
        "id": "y0m1e5ZpftOb",
        "outputId": "dfa44046-1277-4a63-923b-e1f9bc1bc4c5"
      },
      "source": [
        "var0_ = np.array([[0], [1], [3], [4], [5]])\n",
        "var1_ = np.array([[0], [1], [3], [4]])\n",
        "var2_ = np.array([[0], [1], [2]])\n",
        "\n",
        "test(var0_, var1_, var2_)\n"
      ],
      "execution_count": 46,
      "outputs": [
        {
          "output_type": "execute_result",
          "data": {
            "text/plain": [
              "(array([[0],\n",
              "        [1],\n",
              "        [3],\n",
              "        [4],\n",
              "        [5]]), array([[0],\n",
              "        [1],\n",
              "        [3],\n",
              "        [4]]))"
            ]
          },
          "metadata": {
            "tags": []
          },
          "execution_count": 46
        }
      ]
    },
    {
      "cell_type": "code",
      "metadata": {
        "id": "JAxn2r72f1_5"
      },
      "source": [
        "arr = []\n",
        "arr.append(0)"
      ],
      "execution_count": 49,
      "outputs": []
    },
    {
      "cell_type": "code",
      "metadata": {
        "colab": {
          "base_uri": "https://localhost:8080/"
        },
        "id": "FYXyEzOQnbpc",
        "outputId": "773b5130-00a8-4e1b-cce4-e2873f6f9b99"
      },
      "source": [
        "arr"
      ],
      "execution_count": 50,
      "outputs": [
        {
          "output_type": "execute_result",
          "data": {
            "text/plain": [
              "[0]"
            ]
          },
          "metadata": {
            "tags": []
          },
          "execution_count": 50
        }
      ]
    },
    {
      "cell_type": "code",
      "metadata": {
        "id": "dD_a5CGtoS2C"
      },
      "source": [
        "def centroid(vertices_, coefs_, agg):\n",
        "  '''\n",
        "    Return a dicitonary with relation linguistic term and Centroid (C-o-M).\n",
        "\n",
        "    Parameters\n",
        "    ----------\n",
        "    vertex_ : list\n",
        "      Matrix of points of linguist term vertices.\n",
        "\n",
        "    coef_ : list\n",
        "      Matrix of tuple of linear and angular coefficients respectively.\n",
        "\n",
        "    agg : dict\n",
        "      Dictionary of degree of membership.\n",
        "\n",
        "    Returns\n",
        "    -------\n",
        "    cof : dict\n",
        "      Values of Center of Maximums.\n",
        "  '''\n",
        "\n",
        "  n = len(vertices_)\n",
        "  mu_ = np.zeros((n,))\n",
        "  for i in range(n):\n",
        "    vertex_ = vertices_[i]\n",
        "    m = len(vertex_)\n",
        "    if (x <= vertex_[0][0]):\n",
        "      mu_[i] = vertex_[0][1]\n",
        "    elif (x > vertex_[-1][0]):\n",
        "      mu_[i] = vertex_[-1][1]\n",
        "    for j in range(1, m):\n",
        "      if (x <= vertex_[j][0] and x > vertex_[j-1][0]):\n",
        "        mu_[i] = first_degree(coef_[i][j-1], x)\n",
        "  return mu_"
      ],
      "execution_count": null,
      "outputs": []
    }
  ]
}