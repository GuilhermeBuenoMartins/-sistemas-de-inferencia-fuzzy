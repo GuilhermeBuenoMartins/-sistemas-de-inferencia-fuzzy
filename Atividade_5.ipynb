{
  "nbformat": 4,
  "nbformat_minor": 0,
  "metadata": {
    "colab": {
      "name": "Atividade-5.ipynb",
      "provenance": [],
      "collapsed_sections": [],
      "include_colab_link": true
    },
    "kernelspec": {
      "name": "python3",
      "display_name": "Python 3"
    },
    "language_info": {
      "name": "python"
    }
  },
  "cells": [
    {
      "cell_type": "markdown",
      "metadata": {
        "id": "view-in-github",
        "colab_type": "text"
      },
      "source": [
        "<a href=\"https://colab.research.google.com/github/GuilhermeBuenoMartins/sistemas-de-inferencia-fuzzy/blob/develop/Atividade_5.ipynb\" target=\"_parent\"><img src=\"https://colab.research.google.com/assets/colab-badge.svg\" alt=\"Open In Colab\"/></a>"
      ]
    },
    {
      "cell_type": "code",
      "metadata": {
        "id": "Ihv-5kZ9toSR"
      },
      "source": [
        "import numpy as np\n",
        "\n",
        "def straight_equation(x , y):\n",
        "  theta1 = (y[1] - y[0]) / (x[1] - x[0])\n",
        "  theta0 = y[0] - theta1 * x[0]\n",
        "  return (theta0, theta1)\n",
        "\n",
        "def gauss_equation(x , y):\n",
        "  sigma = abs(x[1] - x[0])\n",
        "  mean = x[y.index(1)]\n",
        "  return (mean, sigma)\n",
        "\n",
        "def compare(point0, point1):\n",
        "  return point0[0] == point1[0] and point0[1] == point1[1]\n",
        "\n",
        "def fuzzify(funcs, points, params, x):\n",
        "  n = len(funcs)\n",
        "  mu_x = np.zeros((n, 1))\n",
        "  for i in range(n):\n",
        "    m = funcs[i]\n",
        "    point0 = points[i][0]\n",
        "    pointn = points[i][m-1]\n",
        "    for j in range(m):\n",
        "      if x <= point0[0]:\n",
        "        mu_x[i] = point0[1]\n",
        "      elif  x >= pointn[0]:\n",
        "        mu_x[i] = pointn[1]\n",
        "      elif x > point0[0] and x < pointn[0]:\n",
        "        point = points[i]\n",
        "        if x >= point[j-1][0] and x < point[j][0]:\n",
        "          theta0 = params[i][j-1][0]\n",
        "          theta1 = params[i][j-1][1]\n",
        "          mu_x[i] = theta0 + theta1 * x\n",
        "  return mu_x\n"
      ],
      "execution_count": null,
      "outputs": []
    },
    {
      "cell_type": "code",
      "metadata": {
        "id": "wJ3NGZNKJWvW",
        "colab": {
          "base_uri": "https://localhost:8080/"
        },
        "outputId": "a90da0f5-7aa7-46f6-cf01-25e78e9725c7"
      },
      "source": [
        "funcs = np.array([2, 3, 3])\n",
        "points = np.array([[(24,1), (27,0), (0,0), (0,0)],\n",
        "                   [(24,0), (27,1), (30,0), (0,0)],\n",
        "                   [(27,0), (30,1), (33,0), (0,0)]])\n",
        "params = np.array([[(27/3, -1/3), (0,0), (0,0)],\n",
        "                   [(-24/3, 1/3), (30/3, -1/3), (0,0)],\n",
        "                   [(-27/3, 1/3), (33/3, -1/3), (0,0)]])\n",
        "x = 32\n",
        "fuzzify(funcs, points, params, x)"
      ],
      "execution_count": null,
      "outputs": [
        {
          "output_type": "stream",
          "text": [
            "point= [33  0]\n"
          ],
          "name": "stdout"
        },
        {
          "output_type": "execute_result",
          "data": {
            "text/plain": [
              "array([[0.        ],\n",
              "       [0.        ],\n",
              "       [0.33333333]])"
            ]
          },
          "metadata": {
            "tags": []
          },
          "execution_count": 85
        }
      ]
    },
    {
      "cell_type": "code",
      "metadata": {
        "colab": {
          "base_uri": "https://localhost:8080/"
        },
        "id": "qd0UkxPaDR4X",
        "outputId": "3455da43-7fa2-47a5-8b5c-6d2476c5f21b"
      },
      "source": [
        ""
      ],
      "execution_count": null,
      "outputs": [
        {
          "output_type": "execute_result",
          "data": {
            "text/plain": [
              "array([[0.],\n",
              "       [0.],\n",
              "       [0.],\n",
              "       [3.]])"
            ]
          },
          "metadata": {
            "tags": []
          },
          "execution_count": 11
        }
      ]
    },
    {
      "cell_type": "code",
      "metadata": {
        "colab": {
          "base_uri": "https://localhost:8080/"
        },
        "id": "ENreommsMaWz",
        "outputId": "f5f8225e-69ac-43a2-a5fe-a1f747467f7c"
      },
      "source": [
        ""
      ],
      "execution_count": null,
      "outputs": [
        {
          "output_type": "execute_result",
          "data": {
            "text/plain": [
              "(9.0, -0.3333333333333333)"
            ]
          },
          "metadata": {
            "tags": []
          },
          "execution_count": 15
        }
      ]
    },
    {
      "cell_type": "code",
      "metadata": {
        "id": "l5Cz0dLhW0qd"
      },
      "source": [
        "import numpy as np\n",
        "\n",
        "def infer(var0, var1):\n",
        "  mu_ = np.array([])\n",
        "  for i in range(len(var0)):\n",
        "    for j in range(len(var1)):\n",
        "      mu_ = np.append(mu_, min(var0[i], var1[j]))\n",
        "  return mu_\n",
        "\n",
        "def infer(var0, var1, var2):\n",
        "  mu_ = np.array([])\n",
        "  for i in range(len(var0)):\n",
        "    for j in range(len(var1)):\n",
        "      for k in range(len(var2)):\n",
        "        w_ = np.append(w_, min(var0[i], var1[j], var2[k]))\n",
        "  return mu_\n",
        "\n",
        "def infer(var0, var1, var2, var3):\n",
        "  mu_ = np.array([])\n",
        "  for i in range(len(var0)):\n",
        "    for j in range(len(var1)):\n",
        "      for k in range(len(var2)):\n",
        "        for l in range(len(var3)):\n",
        "          mu_ = np.append(mu_, min(var0[i], var1[j], var2[k], var3[l]))\n",
        "  return mu_\n",
        "\n",
        "def infer(var0, var1, var2, var4):\n",
        "  mu_ = np.array([])\n",
        "  for i in range(len(var0)):\n",
        "    for j in range(len(var1)):\n",
        "      for k in range(len(var2)):\n",
        "        for l in range(len(var3)):\n",
        "          for m in range(len(var4)):\n",
        "            mu_ = np.append(mu_, min(var0[i], var1[j], var2[k], var3[l], var4[m]))\n",
        "  return mu_\n",
        "\n",
        "def infer(var0, var1, var2, var3, var4, var5):\n",
        "  mu_ = np.array([])\n",
        "  for i in range(len(var0)):\n",
        "    for j in range(len(var1)):\n",
        "      for k in range(len(var2)):\n",
        "        for l in range(len(var3)):\n",
        "          for m in range(len(var4)):\n",
        "            for n in range(len(var5)):\n",
        "              mu_ = np.append(mu_, min(var0[i], var1[j], var2[k], var3[l], var4[m], var5[n]))\n",
        "  return mu_\n",
        "\n",
        "def get_x(coef_, y):\n",
        "  '''\n",
        "  Return x value for first degree equation.\n",
        "\n",
        "  Parameters\n",
        "  ----------\n",
        "  coef_ : tuple\n",
        "    Tuple containing a linear and angular coefficients respectively.\n",
        "    \n",
        "  y: float\n",
        "    Result value of sum between the linear coefficient and the product of x value and angular coefficient.\n",
        "\n",
        "  Returns\n",
        "  -------\n",
        "  x\n",
        "    Division result of subtraction of y and linear coefficient by angular coefficient.\n",
        "  '''\n",
        "\n",
        "  theta_0 = coef_[0]\n",
        "  theta_1 = coef_[1]\n",
        "  return (y - theta_0) / theta_1\n"
      ],
      "execution_count": 8,
      "outputs": []
    },
    {
      "cell_type": "code",
      "metadata": {
        "id": "TLAIDtT51Idw",
        "colab": {
          "base_uri": "https://localhost:8080/"
        },
        "outputId": "cadb58dd-be7b-49ca-8cec-df15f97c1ad2"
      },
      "source": [
        "help(get_x)"
      ],
      "execution_count": 9,
      "outputs": [
        {
          "output_type": "stream",
          "text": [
            "Help on function get_x in module __main__:\n",
            "\n",
            "get_x(coef_, y)\n",
            "    Return x value for first degree equation.\n",
            "    \n",
            "    Parameters\n",
            "    ----------\n",
            "    coef_ : tuple\n",
            "      Tuple containing a linear and angular coefficients respectively.\n",
            "      \n",
            "    y: float\n",
            "      Result value of sum between the linear coefficient and the product of x value and angular coefficient.\n",
            "    \n",
            "    Returns\n",
            "    -------\n",
            "    x\n",
            "      Division result of subtraction of y and linear coefficient by angular coefficient.\n",
            "\n"
          ],
          "name": "stdout"
        }
      ]
    },
    {
      "cell_type": "code",
      "metadata": {
        "id": "hcNiEs3P1SoM",
        "outputId": "d0167924-ce67-4669-f585-434de4f54f01",
        "colab": {
          "base_uri": "https://localhost:8080/"
        }
      },
      "source": [
        "get_x((2, 0.5), 3)"
      ],
      "execution_count": 12,
      "outputs": [
        {
          "output_type": "execute_result",
          "data": {
            "text/plain": [
              "2.0"
            ]
          },
          "metadata": {
            "tags": []
          },
          "execution_count": 12
        }
      ]
    },
    {
      "cell_type": "code",
      "metadata": {
        "id": "q1Mvjiv5m2P9",
        "outputId": "be59d6bc-1858-4130-d50e-90f9595269f1",
        "colab": {
          "base_uri": "https://localhost:8080/"
        }
      },
      "source": [
        "arr = np.array([1, 2, 3, 2, 3, 5, 1, 2, 2])\n",
        "np.where(arr == 2)\n"
      ],
      "execution_count": 33,
      "outputs": [
        {
          "output_type": "execute_result",
          "data": {
            "text/plain": [
              "(array([1, 3, 7, 8]),)"
            ]
          },
          "metadata": {
            "tags": []
          },
          "execution_count": 33
        }
      ]
    },
    {
      "cell_type": "code",
      "metadata": {
        "id": "Qff-2UHToj3B"
      },
      "source": [
        "def aggregation(mu_, rule_):\n",
        "  '''\n",
        "    Return a dictionary with the relation between linguistic term and maximum value\n",
        "\n",
        "  Parameters\n",
        "  ----------\n",
        "  mu_ : numpy.ndarray\n",
        "    Degree of membership for each rule\n",
        "  \n",
        "  rule_ : numpy.ndarray\n",
        "    Output rule of linguistic term\n",
        "\n",
        "  Returns\n",
        "  -------\n",
        "  agg : dict\n",
        "    Dictionary of maximum values for each linguistic term\n",
        "  '''\n",
        "\n",
        "  pass\n",
        "\n"
      ],
      "execution_count": 34,
      "outputs": []
    },
    {
      "cell_type": "code",
      "metadata": {
        "id": "hJkboD06rqkc",
        "outputId": "f2f780d0-5c65-4ac9-f5c6-df3026a45343",
        "colab": {
          "base_uri": "https://localhost:8080/"
        }
      },
      "source": [
        "np.zeros((3,4)).dtype"
      ],
      "execution_count": 29,
      "outputs": [
        {
          "output_type": "execute_result",
          "data": {
            "text/plain": [
              "dtype('float64')"
            ]
          },
          "metadata": {
            "tags": []
          },
          "execution_count": 29
        }
      ]
    },
    {
      "cell_type": "code",
      "metadata": {
        "id": "LEPtptc5uK5e",
        "outputId": "9d9e436a-4609-477b-8672-32ecf8ee4e51",
        "colab": {
          "base_uri": "https://localhost:8080/"
        }
      },
      "source": [
        "type({1: 'Vma', 2: 'Va', 3: 'Vm'})"
      ],
      "execution_count": 31,
      "outputs": [
        {
          "output_type": "execute_result",
          "data": {
            "text/plain": [
              "dict"
            ]
          },
          "metadata": {
            "tags": []
          },
          "execution_count": 31
        }
      ]
    },
    {
      "cell_type": "code",
      "metadata": {
        "id": "SnZiZMuauc6a",
        "outputId": "85a2d483-571d-440d-f98c-db8389eddbb5",
        "colab": {
          "base_uri": "https://localhost:8080/"
        }
      },
      "source": [
        "help(aggregation)"
      ],
      "execution_count": 38,
      "outputs": [
        {
          "output_type": "stream",
          "text": [
            "Help on function aggregation in module __main__:\n",
            "\n",
            "aggregation(mu_, rule_)\n",
            "      Return a dictionary with the relation between linguistic term and maximum value\n",
            "    \n",
            "    Parameters\n",
            "    ----------\n",
            "    mu_ : numpy.ndarray\n",
            "      Degree of membership for each rule\n",
            "    \n",
            "    rule_ : numpy.ndarray\n",
            "      Output rule of linguistic term\n",
            "    \n",
            "    Returns\n",
            "    -------\n",
            "    agg : dict\n",
            "      Dictionary of maximum values for each linguistic term\n",
            "\n"
          ],
          "name": "stdout"
        }
      ]
    },
    {
      "cell_type": "code",
      "metadata": {
        "id": "9JibLiaz3MOQ"
      },
      "source": [
        ""
      ],
      "execution_count": null,
      "outputs": []
    }
  ]
}