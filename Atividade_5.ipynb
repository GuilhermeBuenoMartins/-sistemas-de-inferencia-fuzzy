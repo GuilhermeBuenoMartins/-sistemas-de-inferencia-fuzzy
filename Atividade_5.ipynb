{
  "nbformat": 4,
  "nbformat_minor": 0,
  "metadata": {
    "colab": {
      "name": "Atividade-5.ipynb",
      "provenance": [],
      "collapsed_sections": [],
      "toc_visible": true,
      "include_colab_link": true
    },
    "kernelspec": {
      "name": "python3",
      "display_name": "Python 3"
    },
    "language_info": {
      "name": "python"
    }
  },
  "cells": [
    {
      "cell_type": "markdown",
      "metadata": {
        "id": "view-in-github",
        "colab_type": "text"
      },
      "source": [
        "<a href=\"https://colab.research.google.com/github/GuilhermeBuenoMartins/sistemas-de-inferencia-fuzzy/blob/develop/Atividade_5.ipynb\" target=\"_parent\"><img src=\"https://colab.research.google.com/assets/colab-badge.svg\" alt=\"Open In Colab\"/></a>"
      ]
    },
    {
      "cell_type": "code",
      "metadata": {
        "id": "Ihv-5kZ9toSR"
      },
      "source": [
        "import numpy as np\n",
        "\n",
        "def straight_equation(point_0 , point_1):\n",
        "  theta_1 = (point_1[1] - point_0[1]) / (point_1[0] - point_0[0])\n",
        "  theta_0 = point_1[1] - theta_1 * point_1[0]\n",
        "  return (theta_0, theta_1)\n",
        "\n",
        "def first_degree(coef, x):\n",
        "  theta_0, theta_1 = coef\n",
        "  y = theta_0 + theta_1 * x\n",
        "  return y\n",
        "\n",
        "def get_x(coef_, y):\n",
        "  '''\n",
        "  Return x value for first degree equation.\n",
        "\n",
        "  Parameters\n",
        "  ----------\n",
        "  coef_ : tuple\n",
        "    Tuple containing a linear and angular coefficients respectively.\n",
        "    \n",
        "  y: float\n",
        "    Result value of sum between the linear coefficient and the product of x value and angular coefficient.\n",
        "\n",
        "  Returns\n",
        "  -------\n",
        "  x\n",
        "    Division result of subtraction of y and linear coefficient by angular coefficient.\n",
        "  '''\n",
        "\n",
        "  theta_0 = coef_[0]\n",
        "  theta_1 = coef_[1]\n",
        "  return (y - theta_0) / theta_1\n",
        "\n",
        "def gauss_equation(x , y):\n",
        "  sigma = abs(x[1] - x[0])\n",
        "  mean = x[y.index(1)]\n",
        "  return (mean, sigma)\n",
        "\n",
        "def compare(point0, point1):\n",
        "  return point0[0] == point1[0] and point0[1] == point1[1]\n",
        "\n",
        "def fuzzify(vertices_, coefs_, x):\n",
        "  '''\n",
        "    Return a vector with degree of membership for each linguistic term.\n",
        "\n",
        "    Parameters\n",
        "    ----------\n",
        "    vertex_ : list\n",
        "      Matrix of points of linguist term vertices.\n",
        "\n",
        "    coef_ : list\n",
        "      Matrix of tuple of linear and angular coefficients respectively.\n",
        "\n",
        "    x : float\n",
        "      Value of x.\n",
        "\n",
        "    Returns\n",
        "    -------\n",
        "    mu_ : numpy.ndarry\n",
        "      Vector of degree of membership for each linguistic term.\n",
        "  '''\n",
        "\n",
        "  n = len(vertices_)\n",
        "  mu_ = np.zeros((n,))\n",
        "  for i in range(n):\n",
        "    vertex_ = vertices_[i]\n",
        "    m = len(vertex_)\n",
        "    if (x <= vertex_[0][0]):\n",
        "      mu_[i] = vertex_[0][1]\n",
        "    elif (x > vertex_[-1][0]):\n",
        "      mu_[i] = vertex_[-1][1]\n",
        "    for j in range(1, m):\n",
        "      if (x <= vertex_[j][0] and x > vertex_[j-1][0]):\n",
        "        mu_[i] = first_degree(coef_[i][j-1], x)\n",
        "  return mu_\n",
        "\n",
        "def aggregation(mu_,term_, rule_):\n",
        "  '''\n",
        "    Return a dictionary with the relation between linguistic term and maximum value\n",
        "\n",
        "  Parameters\n",
        "  ----------\n",
        "  mu_ : numpy.ndarray\n",
        "    Degree of membership for each rule.\n",
        "  \n",
        "  term: list\n",
        "    List of linguistic terms in order they are in the universe of discourse.\n",
        "\n",
        "  rule_ : numpy.ndarray\n",
        "    Output rule of linguistic term.\n",
        "\n",
        "  Returns\n",
        "  -------\n",
        "  agg : dict\n",
        "    Dictionary of maximum values for each linguistic term.\n",
        "  '''\n",
        "\n",
        "  agg = {}\n",
        "  for term in term_:\n",
        "    agg[term] = 0\n",
        "  for term in np.unique(rule_):\n",
        "    agg.update({term: np.max(mu_[rule_ == term])})\n",
        "  return agg\n",
        "\n",
        "def get_mins(var_0, var_1):\n",
        "  min_ = np.array([])\n",
        "  for i in var_0:\n",
        "    for j in var_1:\n",
        "      x = min(i, j)\n",
        "      min_ = np.append(min_, x)\n",
        "  return min_\n",
        "\n",
        " \n",
        "def infer(vars_):\n",
        "  n = len(vars_)\n",
        "  if (n == 2):\n",
        "    return get_mins(vars_[0], vars_[1])\n",
        "  else:\n",
        "    var0 = vars_[0]\n",
        "    var1 = infer(vars_[1:n])\n",
        "    return get_mins(var0, var1)\n",
        "\n",
        "\n",
        "def f_o_m(universe, vertices_, coefs_, agg):\n",
        "  '''\n",
        "  Return a dicitonary with relation linguistic term and First of Maximums (F-o-M).\n",
        "\n",
        "  Parameters\n",
        "  ----------\n",
        "  vertex_ : list\n",
        "    Matrix of points of linguist term vertices.\n",
        "\n",
        "  coef_ : list\n",
        "    Matrix of tuple of linear and angular coefficients respectively.\n",
        "\n",
        "  agg : dict\n",
        "    Dictionary of degree of membership.\n",
        "\n",
        "  Returns\n",
        "  -------\n",
        "  agg : dict\n",
        "    Values of First of Maximums.\n",
        "  '''\n",
        "\n",
        "  n = len(vertices_)\n",
        "  term_ = list(agg.keys())\n",
        "  for i in range(n):\n",
        "    if (agg[term_[i]] > 0):\n",
        "      if (len(vertices_[i]) == 2 and coefs_[i][0][1] < 0):\n",
        "        agg[term_[i]] = universe[0]\n",
        "      else:\n",
        "        agg.update({term_[i]: get_x(coefs_[i][0], agg[term_[i]])})\n",
        "  return agg\n",
        "\n",
        "\n",
        "def l_o_m(universe, vertices_, coefs_, agg):\n",
        "  '''\n",
        "  Return a dicitonary with relation linguistic term and Last of Maximums (L-o-M).\n",
        "\n",
        "  Parameters\n",
        "  ----------\n",
        "  vertex_ : list\n",
        "    Matrix of points of linguist term vertices.\n",
        "\n",
        "  coef_ : list\n",
        "    Matrix of tuple of linear and angular coefficients respectively.\n",
        "\n",
        "  agg : dict\n",
        "    Dictionary of degree of membership.\n",
        "\n",
        "  Returns\n",
        "  -------\n",
        "  agg : dict\n",
        "    Values of Last of Maximums.\n",
        "  '''\n",
        "\n",
        "  n = len(vertices_)\n",
        "  term_ = list(agg.keys())\n",
        "  for i in range(n):\n",
        "    if (agg[term_[i]] > 0):\n",
        "      if (len(vertices_[i]) == 2 and coefs_[i][0][1] > 0):\n",
        "        agg.update({term_[i]: universe[1]})\n",
        "      else:\n",
        "        agg.update({term_[i]: get_x(coefs_[i][-1], agg[term_[i]])})\n",
        "  return agg  \n",
        "\n",
        "\n",
        "def defuzzify(rule_, agg, mu_):\n",
        "  values = np.array([])\n",
        "  for i in range(len(rule_)):\n",
        "    values = np.append(values, agg[rule_[i]])\n",
        "  sum = round(np.sum(mu_), 8)\n",
        "  crisp = np.matmul(np.transpose(values), mu_) / sum\n",
        "  return crisp"
      ],
      "execution_count": 149,
      "outputs": []
    },
    {
      "cell_type": "code",
      "metadata": {
        "id": "dmRN2dQyL1-c",
        "colab": {
          "base_uri": "https://localhost:8080/"
        },
        "outputId": "10e9719f-cc3a-4036-8550-75735d0a330c"
      },
      "source": [
        "straight_equation((0, 2), (2,-2))"
      ],
      "execution_count": null,
      "outputs": [
        {
          "output_type": "execute_result",
          "data": {
            "text/plain": [
              "(2.0, -2.0)"
            ]
          },
          "metadata": {
            "tags": []
          },
          "execution_count": 7
        }
      ]
    },
    {
      "cell_type": "code",
      "metadata": {
        "id": "nCCkVxJrOlXK",
        "colab": {
          "base_uri": "https://localhost:8080/"
        },
        "outputId": "fc7604c3-9c87-4ea1-c6d0-9b3b7c84e423"
      },
      "source": [
        "n, m = np.shape([[2, 3, 4], [5, 6, 7], [8, 9, np.nan]])\n",
        "print('n = ', n)\n",
        "print('m = ', m)\n",
        "arr = np.array([[2, 3, 4], [5, 6, 7], [8, 9, np.nan]])\n",
        "2 <= arr[2,2]"
      ],
      "execution_count": null,
      "outputs": [
        {
          "output_type": "stream",
          "text": [
            "n =  3\n",
            "m =  3\n"
          ],
          "name": "stdout"
        },
        {
          "output_type": "execute_result",
          "data": {
            "text/plain": [
              "False"
            ]
          },
          "metadata": {
            "tags": []
          },
          "execution_count": 18
        }
      ]
    },
    {
      "cell_type": "code",
      "metadata": {
        "id": "wJ3NGZNKJWvW",
        "colab": {
          "base_uri": "https://localhost:8080/"
        },
        "outputId": "03c9e294-48ac-44c8-fe46-957222a91677"
      },
      "source": [
        "# funcs = np.array([2, 3, 3])\n",
        "vertex_ = [[(0, 1), (10, 0)],\n",
        "           [(0, 0), (10, 1), (20, 0)],\n",
        "           [(10, 0), (20, 1), (30,0)],\n",
        "           [(20, 0), (30, 1), (40,0)]]\n",
        "coef_ = [[(10/10, -1/10)],\n",
        "         [(0/10, 1/10), (20/10, -1/10)],\n",
        "         [(-10/10, 1/10), (30/10, -1/10)],\n",
        "         [(-20/10, 1/10), (40/10, -1/10)]]\n",
        "x = 21\n",
        "fuzzify(vertex_, coef_, x)"
      ],
      "execution_count": null,
      "outputs": [
        {
          "output_type": "execute_result",
          "data": {
            "text/plain": [
              "array([0. , 0. , 0.9, 0.1])"
            ]
          },
          "metadata": {
            "tags": []
          },
          "execution_count": 6
        }
      ]
    },
    {
      "cell_type": "code",
      "metadata": {
        "colab": {
          "base_uri": "https://localhost:8080/"
        },
        "id": "qd0UkxPaDR4X",
        "outputId": "05c51008-6bcf-4c20-82fb-86c7480d3a32"
      },
      "source": [
        "values = (3, 5)\n",
        "value_0, value_1 = values\n",
        "print('Kind of values', type(values))\n",
        "print('value_0', value_0)\n",
        "print('value_1', value_1)"
      ],
      "execution_count": null,
      "outputs": [
        {
          "output_type": "stream",
          "text": [
            "Kind of values <class 'tuple'>\n",
            "value_0 3\n",
            "value_1 5\n"
          ],
          "name": "stdout"
        }
      ]
    },
    {
      "cell_type": "code",
      "metadata": {
        "colab": {
          "base_uri": "https://localhost:8080/"
        },
        "id": "ENreommsMaWz",
        "outputId": "febed3e8-bf67-469c-9739-22860be2d38c"
      },
      "source": [
        "l = [[1, 2, 3], [3, 4, 5], [3, 5, 6]]\n",
        "l.index([3, 5, 6])"
      ],
      "execution_count": null,
      "outputs": [
        {
          "output_type": "execute_result",
          "data": {
            "text/plain": [
              "2"
            ]
          },
          "metadata": {
            "tags": []
          },
          "execution_count": 33
        }
      ]
    },
    {
      "cell_type": "code",
      "metadata": {
        "id": "TLAIDtT51Idw",
        "colab": {
          "base_uri": "https://localhost:8080/"
        },
        "outputId": "cadb58dd-be7b-49ca-8cec-df15f97c1ad2"
      },
      "source": [
        "help(get_x)"
      ],
      "execution_count": null,
      "outputs": [
        {
          "output_type": "stream",
          "text": [
            "Help on function get_x in module __main__:\n",
            "\n",
            "get_x(coef_, y)\n",
            "    Return x value for first degree equation.\n",
            "    \n",
            "    Parameters\n",
            "    ----------\n",
            "    coef_ : tuple\n",
            "      Tuple containing a linear and angular coefficients respectively.\n",
            "      \n",
            "    y: float\n",
            "      Result value of sum between the linear coefficient and the product of x value and angular coefficient.\n",
            "    \n",
            "    Returns\n",
            "    -------\n",
            "    x\n",
            "      Division result of subtraction of y and linear coefficient by angular coefficient.\n",
            "\n"
          ],
          "name": "stdout"
        }
      ]
    },
    {
      "cell_type": "code",
      "metadata": {
        "id": "hcNiEs3P1SoM",
        "colab": {
          "base_uri": "https://localhost:8080/"
        },
        "outputId": "d0167924-ce67-4669-f585-434de4f54f01"
      },
      "source": [
        "get_x((2, 0.5), 3)"
      ],
      "execution_count": null,
      "outputs": [
        {
          "output_type": "execute_result",
          "data": {
            "text/plain": [
              "2.0"
            ]
          },
          "metadata": {
            "tags": []
          },
          "execution_count": 12
        }
      ]
    },
    {
      "cell_type": "code",
      "metadata": {
        "id": "q1Mvjiv5m2P9",
        "colab": {
          "base_uri": "https://localhost:8080/"
        },
        "outputId": "be59d6bc-1858-4130-d50e-90f9595269f1"
      },
      "source": [
        "arr = np.array([1, 2, 3, 2, 3, 5, 1, 2, 2])\n",
        "np.where(arr == 2)\n"
      ],
      "execution_count": null,
      "outputs": [
        {
          "output_type": "execute_result",
          "data": {
            "text/plain": [
              "(array([1, 3, 7, 8]),)"
            ]
          },
          "metadata": {
            "tags": []
          },
          "execution_count": 33
        }
      ]
    },
    {
      "cell_type": "code",
      "metadata": {
        "id": "Qff-2UHToj3B",
        "colab": {
          "base_uri": "https://localhost:8080/"
        },
        "outputId": "fe46af30-13c3-4259-ca65-e411a49ba6f0"
      },
      "source": [
        "agg = {'Vmb': 0.2, 'Vb': 3, 'Vm': 5, 'Va': 7, 'Vma': 10}\n",
        "agg.items()\n",
        "\n"
      ],
      "execution_count": 2,
      "outputs": [
        {
          "output_type": "execute_result",
          "data": {
            "text/plain": [
              "dict_items([('Vmb', 0.2), ('Vb', 3), ('Vm', 5), ('Va', 7), ('Vma', 10)])"
            ]
          },
          "metadata": {
            "tags": []
          },
          "execution_count": 2
        }
      ]
    },
    {
      "cell_type": "code",
      "metadata": {
        "id": "hJkboD06rqkc",
        "colab": {
          "base_uri": "https://localhost:8080/"
        },
        "outputId": "f2f780d0-5c65-4ac9-f5c6-df3026a45343"
      },
      "source": [
        "np.zeros((3,4)).dtype"
      ],
      "execution_count": null,
      "outputs": [
        {
          "output_type": "execute_result",
          "data": {
            "text/plain": [
              "dtype('float64')"
            ]
          },
          "metadata": {
            "tags": []
          },
          "execution_count": 29
        }
      ]
    },
    {
      "cell_type": "code",
      "metadata": {
        "id": "LEPtptc5uK5e",
        "colab": {
          "base_uri": "https://localhost:8080/"
        },
        "outputId": "9d9e436a-4609-477b-8672-32ecf8ee4e51"
      },
      "source": [
        "type({1: 'Vma', 2: 'Va', 3: 'Vm'})"
      ],
      "execution_count": null,
      "outputs": [
        {
          "output_type": "execute_result",
          "data": {
            "text/plain": [
              "dict"
            ]
          },
          "metadata": {
            "tags": []
          },
          "execution_count": 31
        }
      ]
    },
    {
      "cell_type": "code",
      "metadata": {
        "id": "SnZiZMuauc6a",
        "colab": {
          "base_uri": "https://localhost:8080/"
        },
        "outputId": "85a2d483-571d-440d-f98c-db8389eddbb5"
      },
      "source": [
        "help(aggregation)"
      ],
      "execution_count": null,
      "outputs": [
        {
          "output_type": "stream",
          "text": [
            "Help on function aggregation in module __main__:\n",
            "\n",
            "aggregation(mu_, rule_)\n",
            "      Return a dictionary with the relation between linguistic term and maximum value\n",
            "    \n",
            "    Parameters\n",
            "    ----------\n",
            "    mu_ : numpy.ndarray\n",
            "      Degree of membership for each rule\n",
            "    \n",
            "    rule_ : numpy.ndarray\n",
            "      Output rule of linguistic term\n",
            "    \n",
            "    Returns\n",
            "    -------\n",
            "    agg : dict\n",
            "      Dictionary of maximum values for each linguistic term\n",
            "\n"
          ],
          "name": "stdout"
        }
      ]
    },
    {
      "cell_type": "code",
      "metadata": {
        "id": "9JibLiaz3MOQ"
      },
      "source": [
        "arr = np.array([1, 2, 3, 4, 2, 3, 4, 1, 2, 4, 3])"
      ],
      "execution_count": null,
      "outputs": []
    },
    {
      "cell_type": "code",
      "metadata": {
        "colab": {
          "base_uri": "https://localhost:8080/",
          "height": 163
        },
        "id": "K1ug7dwMFyJ2",
        "outputId": "321edb87-30d9-482d-e0c3-5f9bc86ada1d"
      },
      "source": [
        ")"
      ],
      "execution_count": null,
      "outputs": [
        {
          "output_type": "error",
          "ename": "TypeError",
          "evalue": "ignored",
          "traceback": [
            "\u001b[0;31m---------------------------------------------------------------------------\u001b[0m",
            "\u001b[0;31mTypeError\u001b[0m                                 Traceback (most recent call last)",
            "\u001b[0;32m<ipython-input-20-572858c9a9dd>\u001b[0m in \u001b[0;36m<module>\u001b[0;34m()\u001b[0m\n\u001b[0;32m----> 1\u001b[0;31m \u001b[0mnp\u001b[0m\u001b[0;34m.\u001b[0m\u001b[0mmax\u001b[0m\u001b[0;34m(\u001b[0m\u001b[0marr\u001b[0m\u001b[0;34m,\u001b[0m \u001b[0mwhere\u001b[0m\u001b[0;34m=\u001b[0m\u001b[0mnp\u001b[0m\u001b[0;34m.\u001b[0m\u001b[0mindices\u001b[0m\u001b[0;34m(\u001b[0m\u001b[0;34m)\u001b[0m\u001b[0;34m==\u001b[0m\u001b[0;34m[\u001b[0m\u001b[0;36m2\u001b[0m\u001b[0;34m,\u001b[0m \u001b[0;36m4\u001b[0m\u001b[0;34m,\u001b[0m \u001b[0;36m6\u001b[0m\u001b[0;34m,\u001b[0m \u001b[0;36m8\u001b[0m\u001b[0;34m]\u001b[0m\u001b[0;34m)\u001b[0m\u001b[0;34m\u001b[0m\u001b[0;34m\u001b[0m\u001b[0m\n\u001b[0m",
            "\u001b[0;31mTypeError\u001b[0m: indices() missing 1 required positional argument: 'dimensions'"
          ]
        }
      ]
    },
    {
      "cell_type": "code",
      "metadata": {
        "colab": {
          "base_uri": "https://localhost:8080/"
        },
        "id": "T-NGLfhTKRIY",
        "outputId": "6911beb3-9fa4-4ca6-f294-cef4ca119ebb"
      },
      "source": [
        "agg.update({'a': 3})\n",
        "agg.update({'a': 1})\n",
        "agg"
      ],
      "execution_count": null,
      "outputs": [
        {
          "output_type": "execute_result",
          "data": {
            "text/plain": [
              "{'a': 1}"
            ]
          },
          "metadata": {
            "tags": []
          },
          "execution_count": 12
        }
      ]
    },
    {
      "cell_type": "code",
      "metadata": {
        "colab": {
          "base_uri": "https://localhost:8080/"
        },
        "id": "kebz0SIHzhvd",
        "outputId": "d219fc2b-cfb6-424d-d8a7-0f379d0234a1"
      },
      "source": [
        "var0 = np.array([0, 1])\n",
        "var1 = np.array([0.5, 0.0, 0.0, 0.0])\n",
        "var2 = np.array([0.25, 0.25, 0.0, 0.0])\n",
        "infer([var0, var1, var2])"
      ],
      "execution_count": null,
      "outputs": [
        {
          "output_type": "execute_result",
          "data": {
            "text/plain": [
              "array([0.  , 0.  , 0.  , 0.  , 0.  , 0.  , 0.  , 0.  , 0.  , 0.  , 0.  ,\n",
              "       0.  , 0.  , 0.  , 0.  , 0.  , 0.25, 0.25, 0.  , 0.  , 0.  , 0.  ,\n",
              "       0.  , 0.  , 0.  , 0.  , 0.  , 0.  , 0.  , 0.  , 0.  , 0.  ])"
            ]
          },
          "metadata": {
            "tags": []
          },
          "execution_count": 10
        }
      ]
    },
    {
      "cell_type": "code",
      "metadata": {
        "colab": {
          "base_uri": "https://localhost:8080/",
          "height": 229
        },
        "id": "zyd3syaXLGoL",
        "outputId": "6953c3b6-6842-4d04-b9aa-f7f43df28be5"
      },
      "source": [
        "rule_ = np.array(['Vma', 'Vma', 'Vma', 'Vma', 'Va', '-', '-','Vma','Vma',  'Vma', 'Va', 'Va', '-', '-', 'Vma','Vma', 'Vma', 'Va', 'Vm','-', '-',\n",
        " 'Vma', 'Vma', 'Va', 'Va', 'Vm', '-', '-', 'Vma', 'Vma', 'Va', 'Vm', 'Vb', '-', '-', 'Vma', 'Vma', 'Va', 'Vm', '-', '-', '-',\n",
        " 'Vma', 'Vma', 'Va', 'Vm', '-', '-', '-', 'Vma', 'Va', 'Vm', 'Vb', '-', '-', '-', 'Va', 'Vm', 'Vm', 'Vb', '-', '-', '-', \n",
        "'Va','Vm', 'Vb', 'Vmb', '-', '-', '-'])\n",
        "\n",
        "mu_ = np.array([0.0, 0.0, 0.0, 0.0, 0.0, 0.0, 0.0, 0.0, 0.0, 0.0, 0.0, 0.0, 0.0, 0.0, 0.0, 0.0, 0.0, 0.0, 0.0, 0.0, 0.0, 0.0, 0.0, 0.0, 0.0, \n",
        "                0.0, 0.0, 0.0, 0.0, 0.0, 0.0, 0.0, 0.0, 0.0, 0.0, 0.0, 0.0, 0.25, 0.1, 0.0, 0.0, 0.0, 0.0, 0.0, 0.75, 0.1, 0.0, 0.0, \n",
        "                0.0, 0.0, 0.0, 0.0, 0.0, 0.0, 0.0, 0.0, 0.0, 0.0, 0.0, 0.0, 0.0, 0.0, 0.0, 0.0, 0.0, 0.0, 0.0, 0.0, 0.0, 0.0])\n",
        "\n",
        "aggregation(mu_, rule_)\n",
        "\n"
      ],
      "execution_count": 142,
      "outputs": [
        {
          "output_type": "error",
          "ename": "TypeError",
          "evalue": "ignored",
          "traceback": [
            "\u001b[0;31m---------------------------------------------------------------------------\u001b[0m",
            "\u001b[0;31mTypeError\u001b[0m                                 Traceback (most recent call last)",
            "\u001b[0;32m<ipython-input-142-6198e9bda348>\u001b[0m in \u001b[0;36m<module>\u001b[0;34m()\u001b[0m\n\u001b[1;32m      8\u001b[0m                 0.0, 0.0, 0.0, 0.0, 0.0, 0.0, 0.0, 0.0, 0.0, 0.0, 0.0, 0.0, 0.0, 0.0, 0.0, 0.0, 0.0, 0.0, 0.0, 0.0, 0.0, 0.0], dtype=np.float32)\n\u001b[1;32m      9\u001b[0m \u001b[0;34m\u001b[0m\u001b[0m\n\u001b[0;32m---> 10\u001b[0;31m \u001b[0maggregation\u001b[0m\u001b[0;34m(\u001b[0m\u001b[0mmu_\u001b[0m\u001b[0;34m,\u001b[0m \u001b[0mrule_\u001b[0m\u001b[0;34m)\u001b[0m\u001b[0;34m\u001b[0m\u001b[0;34m\u001b[0m\u001b[0m\n\u001b[0m\u001b[1;32m     11\u001b[0m \u001b[0;34m\u001b[0m\u001b[0m\n",
            "\u001b[0;31mTypeError\u001b[0m: aggregation() missing 1 required positional argument: 'rule_'"
          ]
        }
      ]
    },
    {
      "cell_type": "code",
      "metadata": {
        "colab": {
          "base_uri": "https://localhost:8080/"
        },
        "id": "L9Hv8xe-XHfh",
        "outputId": "8f669a11-1fe5-44e5-e043-23190134ae84"
      },
      "source": [
        "np.array([[[0, 1], [10, 11]], [[20, 21], [30, 31]]])"
      ],
      "execution_count": null,
      "outputs": [
        {
          "output_type": "execute_result",
          "data": {
            "text/plain": [
              "array([[[ 0,  1],\n",
              "        [10, 11]],\n",
              "\n",
              "       [[20, 21],\n",
              "        [30, 31]]])"
            ]
          },
          "metadata": {
            "tags": []
          },
          "execution_count": 25
        }
      ]
    },
    {
      "cell_type": "code",
      "metadata": {
        "id": "QLWTTTWAXOVr"
      },
      "source": [
        "rule_ = np.array(['Muito pouco', 'Pouco', 'Moderado', 'Moderado', 'Pouco', 'Pouco', 'Moderado', 'Exagerado', 'Moderado', \n",
        "                  'Moderado', 'Exagerado', 'Exagerado', 'Moderado', 'Exagerado', 'Máximo', 'Máximo', 'Muito pouco', \n",
        "                  'Pouco', 'Moderado', 'Moderado', 'Pouco', 'Pouco', 'Moderado', 'Exagerado', 'Moderado', \n",
        "                  'Moderado', 'Exagerado', 'Exagerado', 'Moderado', 'Exagerado', 'Máximo', 'Máximo'])\n",
        "\n",
        "mu_ = np.array([0.  , 0.  , 0.  , 0.  , 0.  , 0.  , 0.  , 0.  , 0.  , 0.  , 0.  ,\n",
        "                0.  , 0.  , 0.  , 0.  , 0.  , 0.25, 0.25, 0.  , 0.  , 0.  , 0.  ,\n",
        "                0.  , 0.  , 0.  , 0.  , 0.  , 0.  , 0.  , 0.  , 0.  , 0.])\n",
        "\n",
        "agg = aggregation(mu_, rule_)"
      ],
      "execution_count": null,
      "outputs": []
    },
    {
      "cell_type": "code",
      "metadata": {
        "id": "hU0aVvQzXjmx",
        "colab": {
          "base_uri": "https://localhost:8080/"
        },
        "outputId": "1cf9a81b-0bb6-4955-e30c-00cfa1c63aa5"
      },
      "source": [
        "agg['Muito pouco'] = 10\n",
        "agg['Pouco'] = 30\n",
        "values = np.array([])\n",
        "for i in range(len(rule_)):\n",
        "  values = np.append(values, agg[rule_[i]])\n",
        "values"
      ],
      "execution_count": null,
      "outputs": [
        {
          "output_type": "execute_result",
          "data": {
            "text/plain": [
              "array([10., 30.,  0.,  0., 30., 30.,  0.,  0.,  0.,  0.,  0.,  0.,  0.,\n",
              "        0.,  0.,  0., 10., 30.,  0.,  0., 30., 30.,  0.,  0.,  0.,  0.,\n",
              "        0.,  0.,  0.,  0.,  0.,  0.])"
            ]
          },
          "metadata": {
            "tags": []
          },
          "execution_count": 24
        }
      ]
    },
    {
      "cell_type": "code",
      "metadata": {
        "id": "lVAdBQncZ5Yz",
        "colab": {
          "base_uri": "https://localhost:8080/"
        },
        "outputId": "2cc58313-928d-4b40-976a-dffcc012e390"
      },
      "source": [
        "np.average(values, weights=mu_)"
      ],
      "execution_count": null,
      "outputs": [
        {
          "output_type": "execute_result",
          "data": {
            "text/plain": [
              "20.0"
            ]
          },
          "metadata": {
            "tags": []
          },
          "execution_count": 25
        }
      ]
    },
    {
      "cell_type": "code",
      "metadata": {
        "id": "a8Zjh7PI3fiQ",
        "colab": {
          "base_uri": "https://localhost:8080/"
        },
        "outputId": "98faf029-e2ec-4ef4-cc46-c824c81d8886"
      },
      "source": [
        "sugeno = np.array([010.0, 030.0, 060.0, 060.0,\n",
        "                   030.0, 030.0, 060.0, 080.0,\n",
        "                   060.0, 060.0, 080.0, 080.0,\n",
        "                   060.0, 080.0, 100.0, 100.0,\n",
        "                   010.0, 030.0, 060.0, 060.0,\n",
        "                   030.0, 030.0, 060.0, 080.0,\n",
        "                   060.0, 060.0, 080.0, 080.0,\n",
        "                   060.0, 080.0, 100.0, 100.0])\n",
        "np.average(sugeno, weights=mu_)"
      ],
      "execution_count": null,
      "outputs": [
        {
          "output_type": "execute_result",
          "data": {
            "text/plain": [
              "20.0"
            ]
          },
          "metadata": {
            "tags": []
          },
          "execution_count": 19
        }
      ]
    },
    {
      "cell_type": "code",
      "metadata": {
        "colab": {
          "base_uri": "https://localhost:8080/"
        },
        "id": "y0m1e5ZpftOb",
        "outputId": "dfa44046-1277-4a63-923b-e1f9bc1bc4c5"
      },
      "source": [
        "var0_ = np.array([[0], [1], [3], [4], [5]])\n",
        "var1_ = np.array([[0], [1], [3], [4]])\n",
        "var2_ = np.array([[0], [1], [2]])\n",
        "\n",
        "test(var0_, var1_, var2_)\n"
      ],
      "execution_count": null,
      "outputs": [
        {
          "output_type": "execute_result",
          "data": {
            "text/plain": [
              "(array([[0],\n",
              "        [1],\n",
              "        [3],\n",
              "        [4],\n",
              "        [5]]), array([[0],\n",
              "        [1],\n",
              "        [3],\n",
              "        [4]]))"
            ]
          },
          "metadata": {
            "tags": []
          },
          "execution_count": 46
        }
      ]
    },
    {
      "cell_type": "code",
      "metadata": {
        "id": "JAxn2r72f1_5"
      },
      "source": [
        "arr = []\n",
        "arr.append(0)"
      ],
      "execution_count": null,
      "outputs": []
    },
    {
      "cell_type": "code",
      "metadata": {
        "colab": {
          "base_uri": "https://localhost:8080/"
        },
        "id": "FYXyEzOQnbpc",
        "outputId": "773b5130-00a8-4e1b-cce4-e2873f6f9b99"
      },
      "source": [
        "arr"
      ],
      "execution_count": null,
      "outputs": [
        {
          "output_type": "execute_result",
          "data": {
            "text/plain": [
              "[0]"
            ]
          },
          "metadata": {
            "tags": []
          },
          "execution_count": 50
        }
      ]
    },
    {
      "cell_type": "code",
      "metadata": {
        "id": "quHtUCgkUqYE",
        "colab": {
          "base_uri": "https://localhost:8080/"
        },
        "outputId": "f50bac49-4cdd-4743-db84-53459d1a261e"
      },
      "source": [
        "np.shape(rule_)[0]"
      ],
      "execution_count": null,
      "outputs": [
        {
          "output_type": "execute_result",
          "data": {
            "text/plain": [
              "32"
            ]
          },
          "metadata": {
            "tags": []
          },
          "execution_count": 23
        }
      ]
    },
    {
      "cell_type": "code",
      "metadata": {
        "id": "dD_a5CGtoS2C"
      },
      "source": [
        "def f_o_m(universe, vertices_, coefs_, agg):\n",
        "  '''\n",
        "  Return a dicitonary with relation linguistic term and First of Maximums (F-o-M).\n",
        "\n",
        "  Parameters\n",
        "  ----------\n",
        "  vertex_ : list\n",
        "    Matrix of points of linguist term vertices.\n",
        "\n",
        "  coef_ : list\n",
        "    Matrix of tuple of linear and angular coefficients respectively.\n",
        "\n",
        "  agg : dict\n",
        "    Dictionary of degree of membership.\n",
        "\n",
        "  Returns\n",
        "  -------\n",
        "  agg : dict\n",
        "    Values of First of Maximums.\n",
        "  '''\n",
        "\n",
        "  n = len(vertices_)\n",
        "  term_ = list(agg.keys())\n",
        "  for i in range(n):\n",
        "    if (agg[term_[i]] > 0):\n",
        "      if (len(vertices_[i]) == 2 and coefs_[i][0][1] < 0):\n",
        "        agg[term_[i]] = universe[0]\n",
        "      else:\n",
        "        agg.update({term_[i]: get_x(coefs_[i][0], agg[term_[i]])})\n",
        "  return agg\n",
        "\n",
        "def l_o_m(universe, vertices_, coefs_, agg):\n",
        "  '''\n",
        "  Return a dicitonary with relation linguistic term and Last of Maximums (L-o-M).\n",
        "\n",
        "  Parameters\n",
        "  ----------\n",
        "  vertex_ : list\n",
        "    Matrix of points of linguist term vertices.\n",
        "\n",
        "  coef_ : list\n",
        "    Matrix of tuple of linear and angular coefficients respectively.\n",
        "\n",
        "  agg : dict\n",
        "    Dictionary of degree of membership.\n",
        "\n",
        "  Returns\n",
        "  -------\n",
        "  agg : dict\n",
        "    Values of Last of Maximums.\n",
        "  '''\n",
        "\n",
        "  n = len(vertices_)\n",
        "  term_ = list(agg.keys())\n",
        "  for i in range(n):\n",
        "    if (agg[term_[i]] > 0):\n",
        "      if (len(vertices_[i]) == 2 and coefs_[i][0][1] > 0):\n",
        "        agg.update({term_[i]: universe[1]})\n",
        "      else:\n",
        "        agg.update({term_[i]: get_x(coefs_[i][-1], agg[term_[i]])})\n",
        "  return agg  "
      ],
      "execution_count": 40,
      "outputs": []
    },
    {
      "cell_type": "code",
      "metadata": {
        "id": "RJsf7TbibuyU"
      },
      "source": [
        ""
      ],
      "execution_count": null,
      "outputs": []
    },
    {
      "cell_type": "code",
      "metadata": {
        "id": "AQyvj2JeWlYy",
        "colab": {
          "base_uri": "https://localhost:8080/"
        },
        "outputId": "c9d7b503-ba24-499c-e176-4b723efd1521"
      },
      "source": [
        "agg = {'Vma': 0, 'Vm': 0, 'Va': 1, 'Vb': 0, 'Vmb': 0}\n",
        "agg.items()"
      ],
      "execution_count": null,
      "outputs": [
        {
          "output_type": "execute_result",
          "data": {
            "text/plain": [
              "dict_items([('Vma', 0), ('Vm', 0), ('Va', 1), ('Vb', 0), ('Vmb', 0)])"
            ]
          },
          "metadata": {
            "tags": []
          },
          "execution_count": 12
        }
      ]
    },
    {
      "cell_type": "code",
      "metadata": {
        "id": "LpFUjndYXJm0",
        "colab": {
          "base_uri": "https://localhost:8080/"
        },
        "outputId": "6fd6eb39-0838-4b4f-fe78-7d4859dae98d"
      },
      "source": [
        "agg['Va'] = 0.25\n",
        "agg['Vb'] = 0.75\n",
        "for i in agg.keys():\n",
        "  print(i)"
      ],
      "execution_count": null,
      "outputs": [
        {
          "output_type": "stream",
          "text": [
            "Vma\n",
            "Vm\n",
            "Va\n",
            "Vb\n",
            "Vmb\n"
          ],
          "name": "stdout"
        }
      ]
    },
    {
      "cell_type": "code",
      "metadata": {
        "id": "oU_kIebxXw51"
      },
      "source": [
        "agg = {'Vmb': 0.5, 'Vb': 0.75, 'Vm': 0.25,'Va': 0, 'Vma': 0.5, '-': 0}\n",
        "vertices_ = [[(1,1), (3,0)],\n",
        "             [(1,0), (3,1), (5,0)],\n",
        "             [(3,0), (5,1), (7,0)],\n",
        "             [(5,0), (7,1), (9,0)],\n",
        "             [(7,0), (9,1)]]\n",
        "coefs_ = [[(3/2,-1/2)],\n",
        "          [(-1/2,1/2), (5/2,-1/2)],\n",
        "          [(-3/2,1/2), (7/2,-1/2)],\n",
        "          [(-5/2,1/2), (9/2,-1/2)],\n",
        "          [(-7/2,1/2)]]\n",
        "universe = (0, 10)\n",
        "agg = f_o_m(universe, vertices_, coefs_, agg)\n"
      ],
      "execution_count": 153,
      "outputs": []
    },
    {
      "cell_type": "code",
      "metadata": {
        "colab": {
          "base_uri": "https://localhost:8080/"
        },
        "id": "QoWElUs2kMYh",
        "outputId": "79fe182d-579c-4dd9-af3d-cf98ad920446"
      },
      "source": [
        "agg"
      ],
      "execution_count": 154,
      "outputs": [
        {
          "output_type": "execute_result",
          "data": {
            "text/plain": [
              "{'-': 0, 'Va': 0, 'Vb': 2.5, 'Vm': 3.5, 'Vma': 8.0, 'Vmb': 0}"
            ]
          },
          "metadata": {
            "tags": []
          },
          "execution_count": 154
        }
      ]
    },
    {
      "cell_type": "code",
      "metadata": {
        "id": "P5gqP1wOkMy8"
      },
      "source": [
        "agg = {'Vmb': 0.2, 'Vb': 3, 'Vm': 5, 'Va': 7, 'Vma': 10, '-': 0}\n",
        "rule_ = ['Vma', \t'Vma', \t'Vma', \t'Vma', \t'Va', \t'-', \t'-', \n",
        "         'Vma', \t'Vma', \t'Vma', \t'Va', \t'Va', \t'-', \t'-', \n",
        "         'Vma', \t'Vma', \t'Vma', \t'Va', \t'Vm', \t'-', \t'-', \n",
        "         'Vma', \t'Vma', \t'Va', \t'Va', \t'Vm', \t'-', \t'-', \n",
        "         'Vma', \t'Vma', \t'Va', \t'Vm', \t'Vb', \t'-', \t'-',\n",
        "         'Vma', \t'Vma', \t'Va', \t'Vm', \t'-', \t'-', \t'-', \n",
        "         'Vma', \t'Vma', \t'Va', \t'Vb', \t'-', \t'-', \t'-', \n",
        "         'Vma', \t'Va', \t'Vm', \t'Vb', \t'-', \t'-', \t'-', \n",
        "         'Va', \t'Vm', \t'Vm', \t'Vb', \t'-', \t'-', \t'-',\n",
        "         'Va', \t'Vm', \t'Vb', \t'Vmb', \t'-', \t'-', \t'-']\n",
        "mu_ = np.array([0, 0, 0, 0, 0, 0 , 0,\n",
        "       0, 0, 0, 0, 0, 0, 0,\n",
        "       0, 0, 0, 0, 0, 0, 0,\n",
        "       0, 0, 0, 0, 0, 0, 0,\n",
        "       0, 0, 0, 0, 0, 0, 0,\n",
        "       0, 0, 0.25, 0.1, 0, 0, 0,\n",
        "       0, 0, 0.75, 0.1, 0, 0, 0,\n",
        "       0, 0, 0, 0, 0, 0, 0,\n",
        "       0, 0, 0, 0, 0, 0, 0,\n",
        "       0, 0, 0, 0, 0, 0, 0], )\n"
      ],
      "execution_count": 146,
      "outputs": []
    },
    {
      "cell_type": "code",
      "metadata": {
        "colab": {
          "base_uri": "https://localhost:8080/"
        },
        "id": "qs6-aXojt5UC",
        "outputId": "e3ebb400-2610-407c-ab1b-dd59b36bc654"
      },
      "source": [
        "defuzzify(rule_, agg, mu_)"
      ],
      "execution_count": 150,
      "outputs": [
        {
          "output_type": "execute_result",
          "data": {
            "text/plain": [
              "6.5"
            ]
          },
          "metadata": {
            "tags": []
          },
          "execution_count": 150
        }
      ]
    },
    {
      "cell_type": "code",
      "metadata": {
        "colab": {
          "base_uri": "https://localhost:8080/"
        },
        "id": "evDfVG4Fz_N1",
        "outputId": "7443c3c6-7b7e-44a2-c44a-f718ad1b29a4"
      },
      "source": [
        "sum(mu_)"
      ],
      "execution_count": 148,
      "outputs": [
        {
          "output_type": "execute_result",
          "data": {
            "text/plain": [
              "1.2000000000000002"
            ]
          },
          "metadata": {
            "tags": []
          },
          "execution_count": 148
        }
      ]
    },
    {
      "cell_type": "code",
      "metadata": {
        "id": "T0woomWu0H77"
      },
      "source": [
        "def get_coefs_(vertices_):\n",
        "  coefs_ = []\n",
        "  for vertex_ in vertices_:\n",
        "    i = vertices_.index(vertex_)\n",
        "    m = len(vertex_)\n",
        "    coef_ = []\n",
        "    for j in range(m-1):\n",
        "      coef_.append(straight_equation(vertex_[j], vertex_[j+1]))\n",
        "    coefs_.append(coef_)\n",
        "  return coefs_"
      ],
      "execution_count": 174,
      "outputs": []
    },
    {
      "cell_type": "code",
      "metadata": {
        "id": "048MP4mSCCj5",
        "outputId": "debd80ad-bdc0-4cf3-c2a6-643701aa18c6",
        "colab": {
          "base_uri": "https://localhost:8080/"
        }
      },
      "source": [
        "coefs_"
      ],
      "execution_count": 175,
      "outputs": [
        {
          "output_type": "execute_result",
          "data": {
            "text/plain": [
              "[[(1.5, -0.5)],\n",
              " [(-0.5, 0.5), (2.5, -0.5)],\n",
              " [(-1.5, 0.5), (3.5, -0.5)],\n",
              " [(-2.5, 0.5), (4.5, -0.5)],\n",
              " [(-3.5, 0.5)]]"
            ]
          },
          "metadata": {
            "tags": []
          },
          "execution_count": 175
        }
      ]
    },
    {
      "cell_type": "code",
      "metadata": {
        "colab": {
          "base_uri": "https://localhost:8080/"
        },
        "id": "YOBjmBob6i4s",
        "outputId": "2eaca504-c403-4cbd-fb3f-295507812720"
      },
      "source": [
        "get_coefs_(vertices_)"
      ],
      "execution_count": 176,
      "outputs": [
        {
          "output_type": "execute_result",
          "data": {
            "text/plain": [
              "[[(1.5, -0.5)],\n",
              " [(-0.5, 0.5), (2.5, -0.5)],\n",
              " [(-1.5, 0.5), (3.5, -0.5)],\n",
              " [(-2.5, 0.5), (4.5, -0.5)],\n",
              " [(-3.5, 0.5)]]"
            ]
          },
          "metadata": {
            "tags": []
          },
          "execution_count": 176
        }
      ]
    },
    {
      "cell_type": "markdown",
      "metadata": {
        "id": "SlNOW6v-_gYb"
      },
      "source": [
        "# Implmentação do código"
      ]
    },
    {
      "cell_type": "code",
      "metadata": {
        "id": "_ijXa6yOEMjo"
      },
      "source": [
        "class Fuzzy():\n",
        "\n",
        "\n",
        "  def fuzzify(vertices_, coefs_, x):\n",
        "  '''\n",
        "    Return a vector with degree of membership for each linguistic term.\n",
        "\n",
        "    Parameters\n",
        "    ----------\n",
        "    vertex_ : list\n",
        "      Matrix of points of linguist term vertices.\n",
        "\n",
        "    coef_ : list\n",
        "      Matrix of tuple of linear and angular coefficients respectively.\n",
        "\n",
        "    x : float\n",
        "      Value of x.\n",
        "\n",
        "    Returns\n",
        "    -------\n",
        "    mu_ : numpy.ndarry\n",
        "      Vector of degree of membership for each linguistic term.\n",
        "  '''\n",
        "\n",
        "  n = len(vertices_)\n",
        "  mu_ = np.zeros((n,))\n",
        "  for i in range(n):\n",
        "    vertex_ = vertices_[i]\n",
        "    m = len(vertex_)\n",
        "    if (x <= vertex_[0][0]):\n",
        "      mu_[i] = vertex_[0][1]\n",
        "    elif (x > vertex_[-1][0]):\n",
        "      mu_[i] = vertex_[-1][1]\n",
        "    for j in range(1, m):\n",
        "      if (x <= vertex_[j][0] and x > vertex_[j-1][0]):\n",
        "        mu_[i] = CalcsAndOps().first_degree(coef_[i][j-1], x)\n",
        "  return mu_\n",
        "\n",
        "\n",
        "  def infer(vars_):\n",
        "    '''\n",
        "    Return the list resultant of the calculus of consequent.\n",
        "\n",
        "    Parameters\n",
        "    ----------\n",
        "    vars_ : list\n",
        "      List that contend the variables with its degrees of membership\n",
        "\n",
        "    Returns\n",
        "    -------\n",
        "    gets_mins\n",
        "      A list of minimization of variables.\n",
        "    '''\n",
        "\n",
        "    n = len(vars_)\n",
        "    if (n == 2):\n",
        "      return get_mins(vars_[0], vars_[1])\n",
        "    else:\n",
        "      var0 = vars_[0]\n",
        "      var1 = infer(vars_[1:n])\n",
        "      return get_mins(var0, var1)\n",
        "\n",
        "\n",
        "  def aggregation(mu_,term_, rule_):\n",
        "  '''\n",
        "    Return a dictionary with the relation between linguistic term and maximum value\n",
        "\n",
        "  Parameters\n",
        "  ----------\n",
        "  mu_ : numpy.ndarray\n",
        "    Degree of membership for each rule.\n",
        "  \n",
        "  term: list\n",
        "    List of linguistic terms in order they are in the universe of discourse.\n",
        "\n",
        "  rule_ : numpy.ndarray\n",
        "    Output rule of linguistic term.\n",
        "\n",
        "  Returns\n",
        "  -------\n",
        "  agg : dict\n",
        "    Dictionary of maximum values for each linguistic term.\n",
        "  '''\n",
        "\n",
        "  agg = {}\n",
        "  for term in term_:\n",
        "    agg[term] = 0\n",
        "  for term in np.unique(rule_):\n",
        "    agg.update({term: np.max(mu_[rule_ == term])})\n",
        "  return agg\n",
        "\n",
        "\n",
        "  def f_o_m(universe, vertices_, coefs_, agg):\n",
        "    '''\n",
        "    Return a dicitonary with relation linguistic term and First of Maximums (F-o-M).\n",
        "\n",
        "    Parameters\n",
        "    ----------\n",
        "    universe: tuple\n",
        "      Definition of universe of discourse in a ordered pair with minimum and maximum \n",
        "      values respectively.\n",
        "\n",
        "    vertex_ : list\n",
        "      Matrix of points of linguist term vertices.\n",
        "\n",
        "    coef_ : list\n",
        "      Matrix of tuple of linear and angular coefficients respectively.\n",
        "\n",
        "    agg : dict\n",
        "      Dictionary of degree of membership.\n",
        "\n",
        "    Returns\n",
        "    -------\n",
        "    agg : dict\n",
        "        A dictionary contends the relation of terms linguistics and of Last of \n",
        "        Maximums.\n",
        "    '''\n",
        "\n",
        "    n = len(vertices_)\n",
        "    term_ = list(agg.keys())\n",
        "    for i in range(n):\n",
        "      if (agg[term_[i]] > 0):\n",
        "        if (len(vertices_[i]) == 2 and coefs_[i][0][1] < 0):\n",
        "          agg[term_[i]] = universe[0]\n",
        "        else:\n",
        "          agg.update({term_[i]: get_x(coefs_[i][0], agg[term_[i]])})\n",
        "    return agg\n",
        "\n",
        "\n",
        "  def l_o_m(universe, vertices_, coefs_, agg):\n",
        "    '''\n",
        "    Return a dicitonary with relation linguistic term and Last of Maximums (L-o-M).\n",
        "\n",
        "    Parameters\n",
        "    ----------\n",
        "    universe: tuple\n",
        "      Definition of universe of discourse in a ordered pair with minimum and maximum \n",
        "      values respectively.\n",
        "\n",
        "    vertex_ : list\n",
        "      Matrix of points of linguist term vertices.\n",
        "\n",
        "    coef_ : list\n",
        "      Matrix of tuple of linear and angular coefficients respectively.\n",
        "\n",
        "    agg : dict\n",
        "      Dictionary of degree of membership.\n",
        "\n",
        "    Returns\n",
        "    -------\n",
        "    agg : dict\n",
        "        A dictionary contends the relation of terms linguistics and of Last of \n",
        "        Maximums.\n",
        "    '''\n",
        "\n",
        "    n = len(vertices_)\n",
        "    term_ = list(agg.keys())\n",
        "    for i in range(n):\n",
        "      if (agg[term_[i]] > 0):\n",
        "        if (len(vertices_[i]) == 2 and coefs_[i][0][1] > 0):\n",
        "          agg.update({term_[i]: universe[1]})\n",
        "        else:\n",
        "          agg.update({term_[i]: get_x(coefs_[i][-1], agg[term_[i]])})\n",
        "    return agg  \n",
        "\n",
        "\n",
        "    def mamdani_defuz(rule_, agg, mu_):\n",
        "      '''\n",
        "      Return result of Crisp variable from average calc for Mamdani's \n",
        "      deffuzification.\n",
        "\n",
        "      Parameters\n",
        "      ----------\n",
        "      rule_ : list\n",
        "        A list of rules with linguistic terms for each degree of membership output.\n",
        "\n",
        "      agg: dict\n",
        "        A dictionary contends the relation of terms linguistics and found values of\n",
        "        x from degree of membership\n",
        "\n",
        "      mu_ : list\n",
        "        List of degrees of membership after calculus of minimization of rules.\n",
        "\n",
        "      Returns\n",
        "      -------\n",
        "      crisp: float\n",
        "        Value of variable Crisp.\n",
        "      '''\n",
        "\n",
        "    values = np.array([])\n",
        "    for i in range(len(rule_)):\n",
        "      values = np.append(values, agg[rule_[i]])\n",
        "    sum = round(np.sum(mu_), 8)\n",
        "    crisp = np.matmul(np.transpose(values), mu_) / sum\n",
        "    return crisp\n",
        "\n",
        "\n",
        "    def sugeno_defuz(values, mu_):\n",
        "          '''\n",
        "      Return result of Crisp variable from average calc for Takagi-Sugeno's\n",
        "      approach\n",
        "\n",
        "      Parameters\n",
        "      ----------\n",
        "      rule_ : list\n",
        "        A list of rules with linguistic terms for each degree of membership output.\n",
        "\n",
        "      agg: dict\n",
        "        A dictionary contends the relation of terms linguistics and found values of\n",
        "        x from degree of membership\n",
        "\n",
        "      mu_ : list\n",
        "        List of degrees of membership after calculus of minimization of rules.\n",
        "\n",
        "      Returns\n",
        "      -------\n",
        "      crisp: float\n",
        "        Value of variable Crisp.\n",
        "      '''\n",
        "\n",
        "      sum = round(np.sum(mu_), 8)\n",
        "      crisp = np.matmul(np.transpose(values), mu_) / sum\n",
        "      return crisp\n"
      ],
      "execution_count": null,
      "outputs": []
    },
    {
      "cell_type": "code",
      "metadata": {
        "id": "uBDe7hut_qHL"
      },
      "source": [
        "class CalcsAndOps():\n",
        "\n",
        "  def straight_equation(point_0 , point_1):\n",
        "    '''\n",
        "    Return linear and angular coefficients in an tuple.\n",
        "\n",
        "    Parameters\n",
        "    ----------\n",
        "    point_0 : tuple\n",
        "      A tuple correspondent to first point (x, y).\n",
        "\n",
        "    point_1 : tuple\n",
        "      A tuple correspondent to second point (x, y).\n",
        "\n",
        "    Returns\n",
        "    -------\n",
        "    coef_ : tuple\n",
        "      A tuple correspondent to the linear and angular coefficients. \n",
        "    '''\n",
        "    theta_1 = (point_1[1] - point_0[1]) / (point_1[0] - point_0[0])\n",
        "    theta_0 = point_1[1] - theta_1 * point_1[0]\n",
        "    return (theta_0, theta_1)\n",
        "\n",
        "def first_degree(coef, x):\n",
        "  '''\n",
        "  Return value of y for a first degree equation using linear and angular\n",
        "  coefficients and, x.\n",
        "\n",
        "  Parameters\n",
        "  ----------\n",
        "  coef : tuple\n",
        "    Tuple containing a linear and angular coefficients respectively.\n",
        "\n",
        "  x : float\n",
        "    Value of input x.\n",
        "  Returns\n",
        "  -------\n",
        "  y : float\n",
        "    Value of y for a first degree equation.\n",
        "  '''\n",
        "\n",
        "  theta_0, theta_1 = coef\n",
        "  y = theta_0 + theta_1 * x\n",
        "  return y\n",
        "  \n",
        "\n",
        "def get_x(coef_, y):\n",
        "  '''\n",
        "  Return x value for first degree equation.\n",
        "\n",
        "  Parameters\n",
        "  ----------\n",
        "  coef_ : tuple\n",
        "    Tuple containing a linear and angular coefficients respectively.\n",
        "    \n",
        "  y: float\n",
        "    Result value of sum between the linear coefficient and the product of x value and angular coefficient.\n",
        "\n",
        "  Returns\n",
        "  -------\n",
        "  x\n",
        "    Division result of subtraction of y and linear coefficient by angular coefficient.\n",
        "  '''\n",
        "\n",
        "  theta_0 = coef_[0]\n",
        "  theta_1 = coef_[1]\n",
        "  return (y - theta_0) / theta_1\n",
        "\n",
        "def get_mins(var_0, var_1):\n",
        "  '''\n",
        "  Return a list of minors values. since of two list of values.\n",
        "  \n",
        "  Parameters\n",
        "  ----------\n",
        "  var_0 : list\n",
        "    List of values owners the first variable\n",
        "\n",
        "  var_1: list\n",
        "    List of values owners the first variable\n",
        "\n",
        "  Returns\n",
        "  -------\n",
        "  min_\n",
        "    List of minors values.\n",
        "  '''\n",
        "  min_ = np.array([])\n",
        "  for i in var_0:\n",
        "    for j in var_1:\n",
        "      x = min(i, j)\n",
        "      min_ = np.append(min_, x)\n",
        "  return min_"
      ],
      "execution_count": null,
      "outputs": []
    }
  ]
}